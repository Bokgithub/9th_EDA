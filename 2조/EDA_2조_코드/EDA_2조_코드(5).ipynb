{
  "nbformat": 4,
  "nbformat_minor": 0,
  "metadata": {
    "colab": {
      "provenance": []
    },
    "kernelspec": {
      "name": "python3",
      "display_name": "Python 3"
    },
    "language_info": {
      "name": "python"
    }
  },
  "cells": [
    {
      "cell_type": "code",
      "execution_count": 1,
      "metadata": {
        "id": "FoGQj3WJr8fI"
      },
      "outputs": [],
      "source": [
        "import numpy as np\n",
        "import pandas as pd\n",
        "import matplotlib.pyplot as plt\n",
        "import seaborn as sns"
      ]
    },
    {
      "cell_type": "code",
      "source": [
        "# funding_rounds 불러오기\n",
        "funding_rounds=pd.read_csv('./Datset/crunchbase_1/funding_rounds.csv',index_col=0)\n",
        "\n",
        "# 'raised_amount_usd' 칼럼에 대해서만 Na값 0으로 처리\n",
        "funding_rounds['raised_amount_usd'] = funding_rounds['raised_amount_usd'].fillna(0)\n",
        "\n",
        "# 전처리 결과물을 담을 df 생성\n",
        "org = pd.DataFrame({'org_uuid': funding_rounds['org_uuid'].unique()})\n",
        "\n",
        "# Debt Financing, Convertible Note를 통해 투자받은 기록만 확인\n",
        "lst1=[]\n",
        "for i in funding_rounds['name']:\n",
        "    lst1.append('Debt Financing' in i)\n",
        "\n",
        "lst2=[]\n",
        "for i in funding_rounds['name']:\n",
        "    lst2.append('Convertible Note' in i)\n",
        "\n",
        "debt_firms = funding_rounds[lst1 or lst2]\n",
        "\n",
        "# debt_firms에 대해서 org_uuids에 대해 groupby해서 summation 구하기.\n",
        "org_financing =  debt_firms[['org_uuid','raised_amount_usd']].groupby('org_uuid').sum().rename(columns = {'raised_amount_usd':'financing'})\n",
        "\n",
        "# financing 행 org에 병합\n",
        "org = pd.merge(org, org_financing, how = 'left', on = 'org_uuid').set_index('org_uuid').fillna(0)\n",
        "\n",
        "# aver_money\n",
        "aver_money = funding_rounds.groupby('org_uuid').mean()['raised_amount_usd']\n",
        "\n",
        "# aver_money행 org에 병합\n",
        "org = pd.merge(org, aver_money, how = 'left', on = 'org_uuid').fillna(0).rename(columns = {\"raised_amount_usd\":'aver_money'})\n",
        "\n",
        "total = funding_rounds.groupby('org_uuid').sum()['raised_amount_usd']\n",
        "org = pd.merge(org, total, how = 'left', on = 'org_uuid').fillna(0)\n",
        "\n",
        "# ipo, acquisition, success 여부\n",
        "ipo_acquisitions = pd.read_csv('./Datset/by_success.csv',index_col=0).rename(columns = {\"uuid\":'org_uuid'}).set_index('org_uuid')\n",
        "org = pd.merge(org,ipo_acquisitions, how='left',on='org_uuid')\n",
        "org['success'] = org['is_acquisitions'] + org['is_ipos']\n",
        "org['success'] = org['success'].astype(bool)\n",
        "org = org[['financing','raised_amount_usd','aver_money','success']]\n",
        "\n",
        "# organizations의 status 칼럼 추가가\n",
        "organizations = pd.read_csv('./Datset/crunchbase_4/organizations.csv').rename(columns = {'uuid':'org_uuid'})\n",
        "org = pd.merge(org, organizations[['org_uuid','status']], how = 'left', on = 'org_uuid')"
      ],
      "metadata": {
        "id": "bUosjN8KtxhB"
      },
      "execution_count": 4,
      "outputs": []
    },
    {
      "cell_type": "code",
      "source": [
        "# IPO나 인수합병에 성공한 회사에 대해서 각각 'valuation_price_usd', 'price_usd'의 크기를 기준으로 4개의 rank로 나눌 것임.\n",
        "df4=pd.read_csv('./Dataset/crunchbase_1/acquisitions.csv')\n",
        "df5=pd.read_csv('./Dataset/crunchbase_2/ipos.csv')\n",
        "\n",
        "# 각각 price에 대해 sort\n",
        "Acquired=df4[['acquiree_uuid','price_usd']]\n",
        "Acquired.dropna(inplace=True)\n",
        "Acquired['price_usd'] = Acquired['price_usd'].apply(lambda x: int(x))\n",
        "Acquired.sort_values(by=['price_usd'], inplace=True)\n",
        "\n",
        "IPO=df5[['org_uuid','valuation_price_usd']]\n",
        "IPO.dropna(inplace=True)\n",
        "IPO['valuation_price_usd'] = IPO['valuation_price_usd'].apply(lambda x: int(x))\n",
        "IPO.sort_values(by=['valuation_price_usd'], inplace=True)\n",
        "\n",
        "Acquired['Rank_Acq']=0\n",
        "IPO['Rank_IPO']=0\n",
        "\n",
        "# rank 부여여\n",
        "n=0\n",
        "for rank in range (1,5):\n",
        "  for i in range(int(len(Acquired)/4)):\n",
        "    Acquired['Rank_Acq'].iloc[n]=rank\n",
        "    n+=1\n",
        "  \n",
        "Acquired['Rank_Acq'].iloc[-1]=4\n",
        "Acquired['Rank_Acq'].iloc[-2]=4\n",
        "\n",
        "n=0\n",
        "for rank in range (1,5):\n",
        "  for i in range(int(len(IPO)/4)):\n",
        "    IPO['Rank_IPO'].iloc[n]=rank\n",
        "    n+=1\n",
        "IPO['Rank_IPO'].iloc[-1]=4\n",
        "\n",
        "Acquired=Acquired.rename(columns={'acquiree_uuid':'org_uuid'})\n",
        "Ranks=pd.merge(IPO,Acquired,how='outer',on='org_uuid')\n",
        "\n",
        "ranks = Ranks[['org_uuid','Rank_IPO','Rank_Acq']]\n",
        "org = pd.merge(org, ranks, how = 'left', on = 'org_uuid')"
      ],
      "metadata": {
        "colab": {
          "base_uri": "https://localhost:8080/"
        },
        "id": "1_NJEf5qt3ae",
        "outputId": "b635b257-85bb-44e8-a339-519fbdfb2b85"
      },
      "execution_count": 5,
      "outputs": [
        {
          "output_type": "stream",
          "name": "stderr",
          "text": [
            "/usr/local/lib/python3.8/dist-packages/pandas/util/_decorators.py:311: SettingWithCopyWarning: \n",
            "A value is trying to be set on a copy of a slice from a DataFrame\n",
            "\n",
            "See the caveats in the documentation: https://pandas.pydata.org/pandas-docs/stable/user_guide/indexing.html#returning-a-view-versus-a-copy\n",
            "  return func(*args, **kwargs)\n",
            "<ipython-input-5-cf23cb07fa05>:8: SettingWithCopyWarning: \n",
            "A value is trying to be set on a copy of a slice from a DataFrame.\n",
            "Try using .loc[row_indexer,col_indexer] = value instead\n",
            "\n",
            "See the caveats in the documentation: https://pandas.pydata.org/pandas-docs/stable/user_guide/indexing.html#returning-a-view-versus-a-copy\n",
            "  Acquired['price_usd'] = Acquired['price_usd'].apply(lambda x: int(x))\n",
            "<ipython-input-5-cf23cb07fa05>:13: SettingWithCopyWarning: \n",
            "A value is trying to be set on a copy of a slice from a DataFrame.\n",
            "Try using .loc[row_indexer,col_indexer] = value instead\n",
            "\n",
            "See the caveats in the documentation: https://pandas.pydata.org/pandas-docs/stable/user_guide/indexing.html#returning-a-view-versus-a-copy\n",
            "  IPO['valuation_price_usd'] = IPO['valuation_price_usd'].apply(lambda x: int(x))\n",
            "<ipython-input-5-cf23cb07fa05>:16: SettingWithCopyWarning: \n",
            "A value is trying to be set on a copy of a slice from a DataFrame.\n",
            "Try using .loc[row_indexer,col_indexer] = value instead\n",
            "\n",
            "See the caveats in the documentation: https://pandas.pydata.org/pandas-docs/stable/user_guide/indexing.html#returning-a-view-versus-a-copy\n",
            "  Acquired['Rank_Acq']=0\n",
            "<ipython-input-5-cf23cb07fa05>:17: SettingWithCopyWarning: \n",
            "A value is trying to be set on a copy of a slice from a DataFrame.\n",
            "Try using .loc[row_indexer,col_indexer] = value instead\n",
            "\n",
            "See the caveats in the documentation: https://pandas.pydata.org/pandas-docs/stable/user_guide/indexing.html#returning-a-view-versus-a-copy\n",
            "  IPO['Rank_IPO']=0\n",
            "/usr/local/lib/python3.8/dist-packages/pandas/core/indexing.py:1732: SettingWithCopyWarning: \n",
            "A value is trying to be set on a copy of a slice from a DataFrame\n",
            "\n",
            "See the caveats in the documentation: https://pandas.pydata.org/pandas-docs/stable/user_guide/indexing.html#returning-a-view-versus-a-copy\n",
            "  self._setitem_single_block(indexer, value, name)\n"
          ]
        }
      ]
    },
    {
      "cell_type": "code",
      "source": [
        "import seaborn as sns\n",
        "import matplotlib.pyplot as plt\n",
        "\n",
        "sns.set_palette(\"Set2\")\n",
        "\n",
        "sns.barplot(data = org, x = 'Rank_IPO', y = 'financing', estimator = np.mean)\n",
        "plt.show()\n",
        "\n",
        "sns.barplot(data = org, x = 'Rank_Acq', y = 'financing', estimator = np.mean)\n",
        "plt.show()\n",
        "\n",
        "sns.barplot(data = org, x = 'status', y = 'financing', estimator = np.mean)\n",
        "plt.show()"
      ],
      "metadata": {
        "colab": {
          "base_uri": "https://localhost:8080/",
          "height": 838
        },
        "id": "ZBCzInS0t438",
        "outputId": "f13d97f8-04f4-43c3-faf8-9316882e1fe3"
      },
      "execution_count": 6,
      "outputs": [
        {
          "output_type": "display_data",
          "data": {
            "text/plain": [
              "<Figure size 432x288 with 1 Axes>"
            ],
            "image/png": "[encoded data removed]"
          },
          "metadata": {
            "needs_background": "light"
          }
        },
        {
          "output_type": "display_data",
          "data": {
            "text/plain": [
              "<Figure size 432x288 with 1 Axes>"
            ],
            "image/png": "[encoded data removed]"
          },
          "metadata": {
            "needs_background": "light"
          }
        },
        {
          "output_type": "display_data",
          "data": {
            "text/plain": [
              "<Figure size 432x288 with 1 Axes>"
            ],
            "image/png": "[encoded data removed]"
          },
          "metadata": {
            "needs_background": "light"
          }
        }
      ]
    }
  ]
}