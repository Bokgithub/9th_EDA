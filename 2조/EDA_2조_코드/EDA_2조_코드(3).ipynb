{
  "nbformat": 4,
  "nbformat_minor": 0,
  "metadata": {
    "colab": {
      "provenance": []
    },
    "kernelspec": {
      "name": "python3",
      "display_name": "Python 3"
    },
    "language_info": {
      "name": "python"
    }
  },
  "cells": [
    {
      "cell_type": "code",
      "execution_count": 4,
      "metadata": {
        "colab": {
          "base_uri": "https://localhost:8080/"
        },
        "id": "QmF7R7beOBTv",
        "outputId": "690b27cb-af75-42ae-c0af-015e46337fd1"
      },
      "outputs": [
        {
          "output_type": "stream",
          "name": "stdout",
          "text": [
            "Looking in indexes: https://pypi.org/simple, https://us-python.pkg.dev/colab-wheels/public/simple/\n",
            "Requirement already satisfied: pingouin in /usr/local/lib/python3.8/dist-packages (0.5.3)\n",
            "Requirement already satisfied: statsmodels>=0.13 in /usr/local/lib/python3.8/dist-packages (from pingouin) (0.13.5)\n",
            "Requirement already satisfied: matplotlib>=3.0.2 in /usr/local/lib/python3.8/dist-packages (from pingouin) (3.2.2)\n",
            "Requirement already satisfied: scipy>=1.7 in /usr/local/lib/python3.8/dist-packages (from pingouin) (1.7.3)\n",
            "Requirement already satisfied: pandas>=1.0 in /usr/local/lib/python3.8/dist-packages (from pingouin) (1.3.5)\n",
            "Requirement already satisfied: tabulate in /usr/local/lib/python3.8/dist-packages (from pingouin) (0.8.10)\n",
            "Requirement already satisfied: outdated in /usr/local/lib/python3.8/dist-packages (from pingouin) (0.2.2)\n",
            "Requirement already satisfied: numpy>=1.19 in /usr/local/lib/python3.8/dist-packages (from pingouin) (1.21.6)\n",
            "Requirement already satisfied: seaborn>=0.11 in /usr/local/lib/python3.8/dist-packages (from pingouin) (0.11.2)\n",
            "Requirement already satisfied: scikit-learn in /usr/local/lib/python3.8/dist-packages (from pingouin) (1.0.2)\n",
            "Requirement already satisfied: pandas-flavor>=0.2.0 in /usr/local/lib/python3.8/dist-packages (from pingouin) (0.3.0)\n",
            "Requirement already satisfied: python-dateutil>=2.1 in /usr/local/lib/python3.8/dist-packages (from matplotlib>=3.0.2->pingouin) (2.8.2)\n",
            "Requirement already satisfied: pyparsing!=2.0.4,!=2.1.2,!=2.1.6,>=2.0.1 in /usr/local/lib/python3.8/dist-packages (from matplotlib>=3.0.2->pingouin) (3.0.9)\n",
            "Requirement already satisfied: kiwisolver>=1.0.1 in /usr/local/lib/python3.8/dist-packages (from matplotlib>=3.0.2->pingouin) (1.4.4)\n",
            "Requirement already satisfied: cycler>=0.10 in /usr/local/lib/python3.8/dist-packages (from matplotlib>=3.0.2->pingouin) (0.11.0)\n",
            "Requirement already satisfied: pytz>=2017.3 in /usr/local/lib/python3.8/dist-packages (from pandas>=1.0->pingouin) (2022.7)\n",
            "Requirement already satisfied: xarray in /usr/local/lib/python3.8/dist-packages (from pandas-flavor>=0.2.0->pingouin) (2022.12.0)\n",
            "Requirement already satisfied: lazy-loader==0.1rc2 in /usr/local/lib/python3.8/dist-packages (from pandas-flavor>=0.2.0->pingouin) (0.1rc2)\n",
            "Requirement already satisfied: patsy>=0.5.2 in /usr/local/lib/python3.8/dist-packages (from statsmodels>=0.13->pingouin) (0.5.3)\n",
            "Requirement already satisfied: packaging>=21.3 in /usr/local/lib/python3.8/dist-packages (from statsmodels>=0.13->pingouin) (21.3)\n",
            "Requirement already satisfied: littleutils in /usr/local/lib/python3.8/dist-packages (from outdated->pingouin) (0.2.2)\n",
            "Requirement already satisfied: setuptools>=44 in /usr/local/lib/python3.8/dist-packages (from outdated->pingouin) (57.4.0)\n",
            "Requirement already satisfied: requests in /usr/local/lib/python3.8/dist-packages (from outdated->pingouin) (2.25.1)\n",
            "Requirement already satisfied: joblib>=0.11 in /usr/local/lib/python3.8/dist-packages (from scikit-learn->pingouin) (1.2.0)\n",
            "Requirement already satisfied: threadpoolctl>=2.0.0 in /usr/local/lib/python3.8/dist-packages (from scikit-learn->pingouin) (3.1.0)\n",
            "Requirement already satisfied: six in /usr/local/lib/python3.8/dist-packages (from patsy>=0.5.2->statsmodels>=0.13->pingouin) (1.15.0)\n",
            "Requirement already satisfied: chardet<5,>=3.0.2 in /usr/local/lib/python3.8/dist-packages (from requests->outdated->pingouin) (4.0.0)\n",
            "Requirement already satisfied: urllib3<1.27,>=1.21.1 in /usr/local/lib/python3.8/dist-packages (from requests->outdated->pingouin) (1.24.3)\n",
            "Requirement already satisfied: certifi>=2017.4.17 in /usr/local/lib/python3.8/dist-packages (from requests->outdated->pingouin) (2022.12.7)\n",
            "Requirement already satisfied: idna<3,>=2.5 in /usr/local/lib/python3.8/dist-packages (from requests->outdated->pingouin) (2.10)\n"
          ]
        }
      ],
      "source": [
        "\n",
        "import numpy as np\n",
        "import pandas as pd\n",
        "\n",
        "from scipy import stats\n",
        "import pingouin as pg\n",
        "\n",
        "import seaborn as sns\n",
        "import matplotlib.pyplot as plt"
      ]
    },
    {
      "cell_type": "markdown",
      "source": [
        "#1. Seed money와 series a 진출 여부의 상관관계"
      ],
      "metadata": {
        "id": "Uzk0FyC8Obml"
      }
    },
    {
      "cell_type": "code",
      "source": [
        "#Data Import\n",
        "\n",
        "funding_rounds = pd.read_csv('./crunchbase_1/funding_rounds.csv')\n",
        "Ranks=pd.read_csv('./Ranks.csv')"
      ],
      "metadata": {
        "id": "4hab6NUXXFS7"
      },
      "execution_count": 5,
      "outputs": []
    },
    {
      "cell_type": "code",
      "source": [
        "# 각 라운드 별 투자금을 데이터 프레임화\n",
        "\n",
        "angel_amount = funding_rounds[funding_rounds['investment_type'] == 'angel'][['org_uuid', 'raised_amount_usd']].dropna(axis=0)\n",
        "angel_amount.columns = ['org_uuid', 'angel_amount']\n",
        "angel_amount = angel_amount.groupby('org_uuid').sum()\n",
        "angel_amount.reset_index(level=['org_uuid'], inplace=True)\n",
        "\n",
        "seed_amount = funding_rounds[funding_rounds['investment_type'] == 'seed'][['org_uuid', 'raised_amount_usd']].dropna(axis=0)\n",
        "seed_amount.columns = ['org_uuid', 'seed_amount']\n",
        "seed_amount = seed_amount.groupby('org_uuid').sum()\n",
        "seed_amount.reset_index(level=['org_uuid'], inplace=True)\n",
        "\n",
        "pre_seed_amount = funding_rounds[funding_rounds['investment_type'] == 'pre_seed'][['org_uuid', 'raised_amount_usd']].dropna(axis=0)\n",
        "pre_seed_amount.columns = ['org_uuid', 'pre_seed_amount']\n",
        "pre_seed_amount = pre_seed_amount.groupby('org_uuid').sum()\n",
        "pre_seed_amount.reset_index(level=['org_uuid'], inplace=True)\n",
        "\n",
        "# seed money를 계산하여 새로운 데이터 프레임 생성\n",
        "\n",
        "seed = pd.DataFrame(funding_rounds['org_uuid'].unique(), columns=['org_uuid'])\n",
        "seed = pd.merge(seed, angel_amount, how='left', on='org_uuid')\n",
        "seed = pd.merge(seed, seed_amount, how='left', on='org_uuid')\n",
        "seed = pd.merge(seed, pre_seed_amount, how='left', on='org_uuid')\n",
        "seed = seed.fillna(0)\n",
        "\n",
        "seed['seed'] = seed['angel_amount'] + seed['seed_amount'] + seed['pre_seed_amount']\n"
      ],
      "metadata": {
        "id": "F4Yn9rC9W80m"
      },
      "execution_count": 12,
      "outputs": []
    },
    {
      "cell_type": "markdown",
      "source": [
        "seriesa 진출 여부에 따라 seed money의 평균 계산"
      ],
      "metadata": {
        "id": "UaUYsejxcE2i"
      }
    },
    {
      "cell_type": "code",
      "source": [
        "# seed 데이터 프레임에 series a 진출 여부 column 생성\n",
        "\n",
        "series_a = pd.DataFrame(funding_rounds[funding_rounds['investment_type'] == 'series_a']['org_uuid'].unique(), columns=['org_uuid'])\n",
        "series_a['is_series_a'] = 1\n",
        "seed = pd.merge(seed, series_a, how='left', on='org_uuid')\n",
        "seed['is_series_a'] = seed['is_series_a'].fillna(0)\n",
        "\n",
        "# seed money 투자를 유치 받은 회사들 중 series a 진출 여부에 따라 데이터 프레임을 분리\n",
        "\n",
        "yes_a = seed[seed['is_series_a'] == 1]\n",
        "no_a = seed[seed['is_series_a'] == 0]\n",
        "\n",
        "only_yes_a = yes_a[yes_a['seed'] != 0]\n",
        "only_no_a = no_a[no_a['seed'] != 0]\n",
        "\n",
        "# 등분산성 검정\n",
        "\n",
        "print(stats.levene(only_yes_a['seed'], only_no_a['seed']))\n",
        "\n",
        "print('\\n')\n",
        "# 등분산이 아니므로 이분산가정 하에서 t-test 실시\n",
        "\n",
        "t_stat, p_value = stats.ttest_ind(only_yes_a['seed'], only_no_a['seed'], equal_var=False, alternative=\"two-sided\")\n",
        "print(\"t-statistics : {}, p-value : {}\".format(t_stat, p_value))\n",
        "\n",
        "print('\\n')\n",
        "\n",
        "# 유의미한 평균 차이가 존재함을 보임\n",
        "\n",
        "# 시각화\n",
        "\n",
        "sns.barplot(data = seed[seed['seed'] != 0], x = 'is_series_a', y = 'seed', estimator = np.mean)\n",
        "sns.set_palette(\"Set2\")\n",
        "plt.xticks([0, 1], ['no_series_a', 'series_a'])\n",
        "plt.yticks(seed[seed['seed'] != 0].groupby('is_series_a').seed.mean())\n",
        "plt.show()"
      ],
      "metadata": {
        "colab": {
          "base_uri": "https://localhost:8080/",
          "height": 401
        },
        "id": "PANvDbP5OECE",
        "outputId": "24773539-4fc3-462c-9b6f-bb9598ea4f61"
      },
      "execution_count": 13,
      "outputs": [
        {
          "output_type": "stream",
          "name": "stdout",
          "text": [
            "LeveneResult(statistic=239.7923961363787, pvalue=5.036594362863649e-54)\n",
            "\n",
            "\n",
            "t-statistics : 20.98491271249438, p-value : 7.30172280825543e-97\n",
            "\n",
            "\n"
          ]
        },
        {
          "output_type": "display_data",
          "data": {
            "text/plain": [
              "<Figure size 432x288 with 1 Axes>"
            ],
            "image/png": "[encoded data removed]"
          },
          "metadata": {
            "needs_background": "light"
          }
        }
      ]
    },
    {
      "cell_type": "markdown",
      "source": [
        "#2. Seed money와 최종 가치평가의 상관관계"
      ],
      "metadata": {
        "id": "nvLyQlT2dUH8"
      }
    },
    {
      "cell_type": "markdown",
      "source": [
        "Rank에 따라 seed money의 평균 계산(IPO)"
      ],
      "metadata": {
        "id": "v-DvveVQcbtp"
      }
    },
    {
      "cell_type": "code",
      "source": [
        "#Seed money와 series a 진출 여부 및 인수합병 또는 기업 공개 때의 기업가치의 상관관계 분석\n",
        "\n",
        "# rank를 포함한 데이터 프레임 생성\n",
        "\n",
        "seed_with_rank = pd.merge(seed, Ranks, how='left', on='org_uuid') \n",
        "\n",
        "# seed money 투자를 유치한 기업들의 데이터 프레임 생성\n",
        "\n",
        "yes_only = seed_with_rank[seed_with_rank['seed'] != 0]\n",
        "\n",
        "# 등분산 검정\n",
        "\n",
        "ipo1 = yes_only[yes_only['Rank_IPO'] == 1]['seed']\n",
        "ipo2 = yes_only[yes_only['Rank_IPO'] == 2]['seed']\n",
        "ipo3 = yes_only[yes_only['Rank_IPO'] == 3]['seed']\n",
        "ipo4 = yes_only[yes_only['Rank_IPO'] == 4]['seed']\n",
        "\n",
        "print(stats.levene(ipo1, ipo2, ipo3, ipo4))\n",
        "\n",
        "print('\\n')\n",
        "\n",
        "# 등분산 가정이 성립하지 않음\n",
        "\n",
        "# 이분산 가정하에 anova 검정 실시\n",
        "\n",
        "print(pg.welch_anova(dv = 'seed', between = 'Rank_IPO', data = seed_with_rank) )\n",
        "\n",
        "print('\\n')\n",
        "\n",
        "# 유의미한 평균 차이 존재\n",
        "\n",
        "# 사후 분석 실시\n",
        "\n",
        "print(pg.pairwise_gameshowell(dv = 'seed', between = 'Rank_IPO', data = seed_with_rank))\n",
        "\n",
        "print('\\n')\n",
        "\n",
        "# 시각화\n",
        "\n",
        "sns.barplot(data = yes_only, x = 'Rank_IPO', y = 'seed', estimator = np.mean)\n",
        "sns.set_palette(\"Set2\")\n",
        "plt.show()"
      ],
      "metadata": {
        "colab": {
          "base_uri": "https://localhost:8080/",
          "height": 727
        },
        "id": "SL9qjEINcLEW",
        "outputId": "8c8b39f6-a678-4461-bf91-bb6d7f18546f"
      },
      "execution_count": 15,
      "outputs": [
        {
          "output_type": "stream",
          "name": "stdout",
          "text": [
            "LeveneResult(statistic=4.348750974036406, pvalue=0.005052765491314965)\n",
            "\n",
            "\n",
            "     Source  ddof1        ddof2          F         p-unc      np2\n",
            "0  Rank_IPO      3  1145.082579  15.733364  4.961035e-10  0.02597\n",
            "\n",
            "\n",
            "     A    B        mean(A)        mean(B)           diff             se  \\\n",
            "0  1.0  2.0  499767.987395  125278.052373  374489.935022   75563.233676   \n",
            "1  1.0  3.0  499767.987395  500534.688650    -766.701255  121514.815283   \n",
            "2  1.0  4.0  499767.987395  487647.295082   12120.692313  105448.411084   \n",
            "3  2.0  3.0  125278.052373  500534.688650 -375256.636277  102829.737724   \n",
            "4  2.0  4.0  125278.052373  487647.295082 -362369.242709   83231.436532   \n",
            "5  3.0  4.0  500534.688650  487647.295082   12887.393568  126425.947008   \n",
            "\n",
            "          T           df      pval    hedges  \n",
            "0  4.955981   620.441685  0.000006  0.329186  \n",
            "1 -0.006310  1092.441498  1.000000 -0.000354  \n",
            "2  0.114944  1140.657908  0.999457  0.006569  \n",
            "3 -3.649301   750.779931  0.001599 -0.199665  \n",
            "4 -4.353755   831.191279  0.000089 -0.234380  \n",
            "5  0.101936  1247.603867  0.999621  0.005620  \n",
            "\n",
            "\n"
          ]
        },
        {
          "output_type": "display_data",
          "data": {
            "text/plain": [
              "<Figure size 432x288 with 1 Axes>"
            ],
            "image/png": "[encoded data removed]"
          },
          "metadata": {
            "needs_background": "light"
          }
        }
      ]
    },
    {
      "cell_type": "markdown",
      "source": [
        "Rank에 따라 seed money의 평균 계산(Acquisition)"
      ],
      "metadata": {
        "id": "W6a-LFNwc00c"
      }
    },
    {
      "cell_type": "code",
      "source": [
        "# 등분산 검정\n",
        "\n",
        "acq1 = yes_only[yes_only['Rank_Acq'] == 1]['seed']\n",
        "acq2 = yes_only[yes_only['Rank_Acq'] == 2]['seed']\n",
        "acq3 = yes_only[yes_only['Rank_Acq'] == 3]['seed']\n",
        "acq4 = yes_only[yes_only['Rank_Acq'] == 4]['seed']\n",
        "\n",
        "print(stats.levene(acq1, acq2, acq3, acq4))\n",
        "\n",
        "# 등분산 가정이 성립하지 않음\n",
        "\n",
        "# 이분산 가정하에 anova 검정 실시\n",
        "\n",
        "print(pg.welch_anova(dv = 'seed', between = 'Rank_Acq', data = seed_with_rank) )\n",
        "\n",
        "print('\\n')\n",
        "\n",
        "# 유의미한 평균 차이 존재\n",
        "\n",
        "# 사후 분석 실시\n",
        "\n",
        "print(pg.pairwise_gameshowell(dv = 'seed', between = 'Rank_Acq', data = seed_with_rank))\n",
        "\n",
        "print('\\n')\n",
        "\n",
        "# 시각화\n",
        "\n",
        "sns.barplot(data = yes_only, x = 'Rank_Acq', y = 'seed', estimator = np.mean)\n",
        "sns.set_palette(\"Set2\")\n",
        "plt.show()"
      ],
      "metadata": {
        "colab": {
          "base_uri": "https://localhost:8080/",
          "height": 690
        },
        "id": "RGk43tocclwT",
        "outputId": "650449a8-8565-4da2-cf64-6e34ef510cb5"
      },
      "execution_count": 16,
      "outputs": [
        {
          "output_type": "stream",
          "name": "stdout",
          "text": [
            "LeveneResult(statistic=9.348864957867741, pvalue=4.055670446033205e-06)\n",
            "     Source  ddof1        ddof2         F    p-unc       np2\n",
            "0  Rank_Acq      3  3800.227382  5.140578  0.00151  0.050902\n",
            "\n",
            "\n",
            "     A    B        mean(A)        mean(B)           diff            se  \\\n",
            "0  1.0  2.0  435281.664865  371784.302712   63497.362153  55701.910334   \n",
            "1  1.0  3.0  435281.664865  329335.454738  105946.210127  56478.830490   \n",
            "2  1.0  4.0  435281.664865  238324.070620  196957.594245  57708.406859   \n",
            "3  2.0  3.0  371784.302712  329335.454738   42448.847974  40353.490005   \n",
            "4  2.0  4.0  371784.302712  238324.070620  133460.232091  42057.176371   \n",
            "5  3.0  4.0  329335.454738  238324.070620   91011.384118  43080.872356   \n",
            "\n",
            "          T           df      pval    hedges  \n",
            "0  1.139949  2124.290136  0.664784  0.044103  \n",
            "1  1.875857  2253.988512  0.238732  0.068677  \n",
            "2  3.412979  2382.939291  0.003649  0.124387  \n",
            "3  1.051925  4141.953568  0.718776  0.032059  \n",
            "4  3.173305  4010.709109  0.008265  0.098385  \n",
            "5  2.112571  4516.722985  0.149185  0.062594  \n",
            "\n",
            "\n"
          ]
        },
        {
          "output_type": "display_data",
          "data": {
            "text/plain": [
              "<Figure size 432x288 with 1 Axes>"
            ],
            "image/png": "[encoded data removed]"
          },
          "metadata": {
            "needs_background": "light"
          }
        }
      ]
    },
    {
      "cell_type": "code",
      "source": [
        "# 전처리 결과물을 담을 df 생성\n",
        "org = pd.DataFrame({'org_uuid': funding_rounds['org_uuid'].unique()})\n",
        "\n",
        "# Debt Financing, Convertible Note를 통해 투자받은 기록만 확인\n",
        "lst1=[]\n",
        "for i in funding_rounds['name']:\n",
        "    lst1.append('Debt Financing' in i)\n",
        "\n",
        "lst2=[]\n",
        "for i in funding_rounds['name']:\n",
        "    lst2.append('Convertible Note' in i)\n",
        "\n",
        "debt_firms = funding_rounds[lst1 or lst2]\n",
        "\n",
        "# debt_firms에 대해서 org_uuids에 대해 groupby해서 summation 구하기.\n",
        "org_financing =  debt_firms[['org_uuid','raised_amount_usd']].groupby('org_uuid').sum().rename(columns = {'raised_amount_usd':'financing'})\n",
        "\n",
        "# financing 행 org에 병합\n",
        "org = pd.merge(org, org_financing, how = 'left', on = 'org_uuid').set_index('org_uuid').fillna(0)\n",
        "\n",
        "# aver_money\n",
        "aver_money = funding_rounds.groupby('org_uuid').mean()['raised_amount_usd']\n",
        "\n",
        "# aver_money행 org에 병합\n",
        "org = pd.merge(org, aver_money, how = 'left', on = 'org_uuid').fillna(0).rename(columns = {\"raised_amount_usd\":'aver_money'})\n",
        "\n",
        "total = funding_rounds.groupby('org_uuid').sum()['raised_amount_usd']\n",
        "org = pd.merge(org, total, how = 'left', on = 'org_uuid').fillna(0)\n",
        "\n",
        "# ipo, acquisition, success 여부\n",
        "ipo_acquisitions = pd.read_csv('./Dataset/by_success.csv',index_col=0).rename(columns = {\"uuid\":'org_uuid'}).set_index('org_uuid')\n",
        "org = pd.merge(org,ipo_acquisitions, how='left',on='org_uuid')\n",
        "org['success'] = org['is_acquisitions'] + org['is_ipos']\n",
        "org['success'] = org['success'].astype(bool)\n",
        "org = org[['financing','raised_amount_usd','aver_money','success']]\n",
        "\n",
        "# organizations의 status 칼럼 추가가\n",
        "organizations = pd.read_csv('./Dataset/crunchbase_4/organizations.csv').rename(columns = {'uuid':'org_uuid'})\n",
        "org = pd.merge(org, organizations[['org_uuid','status']], how = 'left', on = 'org_uuid')\n"
      ],
      "metadata": {
        "id": "-nrfIKdVrLo7"
      },
      "execution_count": 21,
      "outputs": []
    },
    {
      "cell_type": "code",
      "source": [
        "funding_rounds=pd.read_csv('./Dataset/crunchbase_1/funding_rounds.csv',index_col=0)\n",
        "# angel, seed, pre seed 라운드에서 받은 금액의 합인 seed 칼럼 생성성\n",
        "angel_amount = funding_rounds[funding_rounds['investment_type'] == 'angel'][['org_uuid', 'raised_amount_usd']].dropna(axis=0)\n",
        "angel_amount.columns = ['org_uuid', 'angel_amount']\n",
        "angel_amount = angel_amount.groupby('org_uuid').sum()\n",
        "angel_amount.reset_index(level=['org_uuid'], inplace=True)\n",
        "\n",
        "seed_amount = funding_rounds[funding_rounds['investment_type'] == 'seed'][['org_uuid', 'raised_amount_usd']].dropna(axis=0)\n",
        "seed_amount.columns = ['org_uuid', 'seed_amount']\n",
        "seed_amount = seed_amount.groupby('org_uuid').sum()\n",
        "seed_amount.reset_index(level=['org_uuid'], inplace=True)\n",
        "\n",
        "pre_seed_amount = funding_rounds[funding_rounds['investment_type'] == 'pre_seed'][['org_uuid', 'raised_amount_usd']].dropna(axis=0)\n",
        "pre_seed_amount.columns = ['org_uuid', 'pre_seed_amount']\n",
        "pre_seed_amount = pre_seed_amount.groupby('org_uuid').sum()\n",
        "pre_seed_amount.reset_index(level=['org_uuid'], inplace=True)\n",
        "\n",
        "seed = pd.DataFrame(funding_rounds['org_uuid'].unique(), columns=['org_uuid'])\n",
        "seed = pd.merge(seed, angel_amount, how='left', on='org_uuid')\n",
        "seed = pd.merge(seed, seed_amount, how='left', on='org_uuid')\n",
        "seed = pd.merge(seed, pre_seed_amount, how='left', on='org_uuid')\n",
        "seed = seed.fillna(0)\n",
        "\n",
        "seed['seed'] = seed['angel_amount'] + seed['seed_amount'] + seed['pre_seed_amount']\n",
        "\n",
        "org = pd.merge(org, seed[['org_uuid', 'seed']], how = 'left', on = 'org_uuid')\n",
        "\n",
        "# seed가 0인 기업과 그렇지 않은 기업 분리 및 success 비율 시각화\n",
        "seed0 = org[org['seed']==0]\n",
        "seed1 = org[org['seed']!=0]\n",
        "\n",
        "color= sns.set_palette(\"Set2\", 2)\n",
        "plt.pie([seed0['success'].mean(),1-seed0['success'].mean()], labels = ['success','failure'], explode = (0.1,0.1), shadow = True, startangle = 112.5, textprops = {'fontsize':12},autopct = \"%1.2f%%\", colors=color)\n",
        "plt.title('without seed money')\n",
        "plt.show()\n",
        "\n",
        "plt.pie([seed1['success'].mean(),1-seed1['success'].mean()], labels = ['success','failure'], explode = (0.2,0.2), shadow = True, startangle = 150, textprops = {'fontsize':12},autopct = \"%1.2f%%\",colors = color)\n",
        "plt.title('with seed money')\n",
        "plt.show()"
      ],
      "metadata": {
        "colab": {
          "base_uri": "https://localhost:8080/",
          "height": 511
        },
        "id": "DNdvwdtQc8mQ",
        "outputId": "429febad-b0f4-4e81-823c-c83e8088a5f0"
      },
      "execution_count": 22,
      "outputs": [
        {
          "output_type": "display_data",
          "data": {
            "text/plain": [
              "<Figure size 432x288 with 1 Axes>"
            ],
            "image/png": "[encoded data removed]"
          },
          "metadata": {}
        },
        {
          "output_type": "display_data",
          "data": {
            "text/plain": [
              "<Figure size 432x288 with 1 Axes>"
            ],
            "image/png": "[encoded data removed]"
          },
          "metadata": {}
        }
      ]
    },
    {
      "cell_type": "code",
      "source": [],
      "metadata": {
        "id": "jGoKn1Asqyl-"
      },
      "execution_count": null,
      "outputs": []
    }
  ]
}