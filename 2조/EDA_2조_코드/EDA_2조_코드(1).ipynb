{
  "nbformat": 4,
  "nbformat_minor": 0,
  "metadata": {
    "colab": {
      "provenance": []
    },
    "kernelspec": {
      "name": "python3",
      "display_name": "Python 3"
    },
    "language_info": {
      "name": "python"
    }
  },
  "cells": [
    {
      "cell_type": "code",
      "execution_count": null,
      "metadata": {
        "id": "GejgjRn3_Kuo"
      },
      "outputs": [],
      "source": [
        "import numpy as np\n",
        "import pandas as pd"
      ]
    },
    {
      "cell_type": "markdown",
      "source": [
        "#1. IPO 당시의 기업 가치/ Acq 당시의 회사 가격으로 rank(1~4) 설정하기"
      ],
      "metadata": {
        "id": "Chdh0MuNBync"
      }
    },
    {
      "cell_type": "code",
      "source": [
        "# acquisitions, ipos csv 불러오기\n",
        "df_1_Acq=pd.read_csv('./Dataset/crunchbase_1/acquisitions.csv')\n",
        "df_2_IPO=pd.read_csv('./Dataset/crunchbase_2/ipos.csv')\n",
        "\n",
        "# 기업 가치 기준으로 오름차순 정렬\n",
        "Acquired=df_1_Acq[['acquiree_uuid','price_usd']]\n",
        "Acquired.dropna(inplace=True)\n",
        "Acquired['price_usd'] = Acquired['price_usd'].apply(lambda x: int(x))\n",
        "Acquired.sort_values(by=['price_usd'], inplace=True)\n",
        "\n",
        "IPO=df_2_IPO[['org_uuid','valuation_price_usd']]\n",
        "IPO.dropna(inplace=True)\n",
        "IPO['valuation_price_usd'] = IPO['valuation_price_usd'].apply(lambda x: int(x))\n",
        "IPO.sort_values(by=['valuation_price_usd'], inplace=True)\n",
        "\n",
        "# Rank column 생성\n",
        "Acquired['Rank_Acq']=0\n",
        "IPO['Rank_IPO']=0\n",
        "\n",
        "# 4개의 rank에 같은 수의 기업이 포함되도록 rank 부여\n",
        "\n",
        "n=0\n",
        "for rank in range (1,5):\n",
        "  for i in range(int(len(Acquired)/4)):\n",
        "    Acquired['Rank_Acq'].iloc[n]=rank\n",
        "    n+=1\n",
        "  \n",
        "Acquired['Rank_Acq'].iloc[-1]=4\n",
        "Acquired['Rank_Acq'].iloc[-2]=4\n",
        "\n",
        "n=0\n",
        "for rank in range (1,5):\n",
        "  for i in range(int(len(IPO)/4)):\n",
        "    IPO['Rank_IPO'].iloc[n]=rank\n",
        "    n+=1\n",
        "IPO['Rank_IPO'].iloc[-1]=4\n",
        "\n",
        "#uuid와 rank 정보만 추출\n",
        "Acquired=Acquired[['Rank_Acq','acquiree_uuid']]\n",
        "IPO=IPO[['Rank_IPO','org_uuid']]\n",
        "\n",
        "# 하나의 데이터 프레임으로 merge(uuid)\n",
        "Acquired=Acquired.rename(columns={'acquiree_uuid':'org_uuid'})\n",
        "Ranks=pd.merge(IPO,Acquired,how='outer',on='org_uuid')\n",
        "\n",
        "#csv 파일로 저장\n",
        "Ranks.to_csv('./Dataset/Ranks.csv') \n"
      ],
      "metadata": {
        "colab": {
          "base_uri": "https://localhost:8080/"
        },
        "id": "cvc1ouPQ_h_x",
        "outputId": "b030f5b6-2efa-4704-be7b-1399c6161f9a"
      },
      "execution_count": null,
      "outputs": [
        {
          "output_type": "stream",
          "name": "stderr",
          "text": [
            "/usr/local/lib/python3.8/dist-packages/pandas/util/_decorators.py:311: SettingWithCopyWarning: \n",
            "A value is trying to be set on a copy of a slice from a DataFrame\n",
            "\n",
            "See the caveats in the documentation: https://pandas.pydata.org/pandas-docs/stable/user_guide/indexing.html#returning-a-view-versus-a-copy\n",
            "  return func(*args, **kwargs)\n",
            "<ipython-input-14-36ab84f58844>:8: SettingWithCopyWarning: \n",
            "A value is trying to be set on a copy of a slice from a DataFrame.\n",
            "Try using .loc[row_indexer,col_indexer] = value instead\n",
            "\n",
            "See the caveats in the documentation: https://pandas.pydata.org/pandas-docs/stable/user_guide/indexing.html#returning-a-view-versus-a-copy\n",
            "  Acquired['price_usd'] = Acquired['price_usd'].apply(lambda x: int(x))\n",
            "<ipython-input-14-36ab84f58844>:13: SettingWithCopyWarning: \n",
            "A value is trying to be set on a copy of a slice from a DataFrame.\n",
            "Try using .loc[row_indexer,col_indexer] = value instead\n",
            "\n",
            "See the caveats in the documentation: https://pandas.pydata.org/pandas-docs/stable/user_guide/indexing.html#returning-a-view-versus-a-copy\n",
            "  IPO['valuation_price_usd'] = IPO['valuation_price_usd'].apply(lambda x: int(x))\n",
            "<ipython-input-14-36ab84f58844>:17: SettingWithCopyWarning: \n",
            "A value is trying to be set on a copy of a slice from a DataFrame.\n",
            "Try using .loc[row_indexer,col_indexer] = value instead\n",
            "\n",
            "See the caveats in the documentation: https://pandas.pydata.org/pandas-docs/stable/user_guide/indexing.html#returning-a-view-versus-a-copy\n",
            "  Acquired['Rank_Acq']=0\n",
            "<ipython-input-14-36ab84f58844>:18: SettingWithCopyWarning: \n",
            "A value is trying to be set on a copy of a slice from a DataFrame.\n",
            "Try using .loc[row_indexer,col_indexer] = value instead\n",
            "\n",
            "See the caveats in the documentation: https://pandas.pydata.org/pandas-docs/stable/user_guide/indexing.html#returning-a-view-versus-a-copy\n",
            "  IPO['Rank_IPO']=0\n",
            "/usr/local/lib/python3.8/dist-packages/pandas/core/indexing.py:1732: SettingWithCopyWarning: \n",
            "A value is trying to be set on a copy of a slice from a DataFrame\n",
            "\n",
            "See the caveats in the documentation: https://pandas.pydata.org/pandas-docs/stable/user_guide/indexing.html#returning-a-view-versus-a-copy\n",
            "  self._setitem_single_block(indexer, value, name)\n"
          ]
        }
      ]
    },
    {
      "cell_type": "markdown",
      "source": [
        "#2. (IPO 당시 회사 기업 가치/ 인수 합병 시 회사 가격)과,각 funding round에서의 회사 가치  를 비교하여 회사 가치 성장 정도 계산하기"
      ],
      "metadata": {
        "id": "YiyX3zdbCIFW"
      }
    },
    {
      "cell_type": "markdown",
      "source": [
        "IPO 당시 회사 기업 가치/ 인수 합병 시 회사 가격 을 전체 회사에서 z 값으로 구하고\n",
        "각 funding round에서의 회사 가치를 전체 회사에서 z값으로 구한 후\n",
        "이 차이를 구하여 z 값 차이가 높은 순 rank 1~4 부여"
      ],
      "metadata": {
        "id": "Q1D9Fr7gCbRI"
      }
    },
    {
      "cell_type": "markdown",
      "source": [
        "##z값 계산(정규화 하기)"
      ],
      "metadata": {
        "id": "NMkQBzeiG4Hr"
      }
    },
    {
      "cell_type": "code",
      "source": [
        "# Data Import\n",
        "\n",
        "\n",
        "df_1_funding_rounds=pd.read_csv('./Dataset/crunchbase_1/funding_rounds.csv')\n",
        "\n",
        "df_1_Acq=pd.read_csv('./Dataset/crunchbase_1/acquisitions.csv')\n",
        "df_2_IPO=pd.read_csv('./Dataset/crunchbase_2/ipos.csv')\n",
        "\n",
        "\n",
        "#Funding Round 별로 데이터 구분\n",
        "\n",
        "SeriesA = df_1_funding_rounds[df_1_funding_rounds['investment_type']=='series_a']\n",
        "SeriesB = df_1_funding_rounds[df_1_funding_rounds['investment_type']=='series_b']\n",
        "SeriesC = df_1_funding_rounds[df_1_funding_rounds['investment_type']=='series_c']\n",
        "Angel = df_1_funding_rounds[df_1_funding_rounds['investment_type']=='angel']\n",
        "PreSeed = df_1_funding_rounds[df_1_funding_rounds['investment_type']=='pre_seed']\n",
        "Seed = df_1_funding_rounds[df_1_funding_rounds['investment_type']=='seed']\n",
        "\n",
        "#post_money_valuation_usd 순으로 sort, post_money_valuation_usd에 대한 결측값 제거\n",
        "\n",
        "SeriesA = SeriesA.sort_values(by=['post_money_valuation_usd'])\n",
        "SeriesA = SeriesA.drop(SeriesA[SeriesA['post_money_valuation_usd'].isnull()].index)\n",
        "\n",
        "SeriesB = SeriesB.sort_values(by=['post_money_valuation_usd'])\n",
        "SeriesB = SeriesB.drop(SeriesB[SeriesB['post_money_valuation_usd'].isnull()].index)\n",
        "\n",
        "SeriesC = SeriesC.sort_values(by=['post_money_valuation_usd'])\n",
        "SeriesC = SeriesC.drop(SeriesC[SeriesC['post_money_valuation_usd'].isnull()].index)\n",
        "\n",
        "Angel = Angel.sort_values(by=['post_money_valuation_usd'])\n",
        "Angel = Angel.drop(Angel[Angel['post_money_valuation_usd'].isnull()].index)\n",
        "\n",
        "PreSeed = PreSeed.sort_values(by=['post_money_valuation_usd'])\n",
        "PreSeed = PreSeed.drop(PreSeed[PreSeed['post_money_valuation_usd'].isnull()].index)\n",
        "\n",
        "Seed = Seed.sort_values(by=['post_money_valuation_usd'])\n",
        "Seed = Seed.drop(Seed[Seed['post_money_valuation_usd'].isnull()].index)\n",
        "\n",
        "#Seed, Angel, Preseed 묶어서 Seed로 할당\n",
        "Seed = pd.concat([Seed,Angel,PreSeed],axis=0)\n",
        "Seed = Seed.sort_values(by=['post_money_valuation_usd'])\n",
        "\n",
        "#기업 가격/ 기업 가치 순으로 sort,결측값 제거\n",
        "\n",
        "Acquired=df_1_Acq[['acquiree_uuid','price_usd']]\n",
        "Acquired.dropna(inplace=True)\n",
        "Acquired.sort_values(by=['price_usd'],inplace=True)\n",
        "\n",
        "IPO=df_2_IPO[['org_uuid','valuation_price_usd']]\n",
        "IPO.dropna(inplace=True)\n",
        "IPO.sort_values(by=['valuation_price_usd'],inplace=True)\n",
        "\n",
        "#z 값 계산(x-mean/std)\n",
        "mean_Seed=Seed['post_money_valuation_usd'].mean()\n",
        "dev_Seed=Seed['post_money_valuation_usd'].std()\n",
        "Seed['zSeed']=(Seed['post_money_valuation_usd']-mean_Seed)/dev_Seed\n",
        "Seed=Seed.rename(columns={'post_money_valuation_usd':'post_money_valuation_usd_Seed','raised_amount_usd':'raised_amount_usd_Seed'})\n",
        "Seed=Seed[['org_uuid','raised_amount_usd_Seed','zSeed']]\n",
        "\n",
        "mean_A=SeriesA['post_money_valuation_usd'].mean()\n",
        "dev_Seed=SeriesA['post_money_valuation_usd'].std()\n",
        "SeriesA['zA']=(SeriesA['post_money_valuation_usd']-mean_A)/dev_Seed\n",
        "SeriesA=SeriesA.rename(columns={'post_money_valuation_usd':'post_money_valuation_usd_A','raised_amount_usd':'raised_amount_usd_A'})\n",
        "SeriesA=SeriesA[['org_uuid','raised_amount_usd_A','zA']]\n",
        "\n",
        "mean_B=SeriesB['post_money_valuation_usd'].mean()\n",
        "dev_B=SeriesB['post_money_valuation_usd'].std()\n",
        "SeriesB['zB']=(SeriesB['post_money_valuation_usd']-mean_B)/dev_B\n",
        "SeriesB=SeriesB.rename(columns={'post_money_valuation_usd':'post_money_valuation_usd_B','raised_amount_usd':'raised_amount_usd_B'})\n",
        "SeriesB=SeriesB[['org_uuid','raised_amount_usd_B','zB']]\n",
        "\n",
        "mean_C=SeriesC['post_money_valuation_usd'].mean()\n",
        "dev_C=SeriesC['post_money_valuation_usd'].std()\n",
        "SeriesC['zC']=(SeriesC['post_money_valuation_usd']-mean_C)/dev_C\n",
        "SeriesC=SeriesC.rename(columns={'post_money_valuation_usd':'post_money_valuation_usd_C','raised_amount_usd':'raised_amount_usd_C'})\n",
        "SeriesC=SeriesC[['org_uuid','raised_amount_usd_C','zC']]\n",
        "\n",
        "\n",
        "mean_Acq=Acquired['price_usd'].mean()\n",
        "dev_Acq=Acquired['price_usd'].std()\n",
        "Acquired['zAcq']=(Acquired['price_usd']-mean_Acq)/dev_Acq\n",
        "Acquired=Acquired[['acquiree_uuid','zAcq']]\n",
        "Acquired=Acquired.rename(columns={'acquiree_uuid':'org_uuid'})\n",
        "\n",
        "mean_IPO=IPO['valuation_price_usd'].mean()\n",
        "dev_IPO=IPO['valuation_price_usd'].std()\n",
        "IPO['zIPO']=(IPO['valuation_price_usd']-mean_IPO)/dev_IPO\n",
        "IPO=IPO[['org_uuid','zIPO']]\n",
        "\n",
        "\n",
        "Zs=pd.merge(SeriesA,SeriesB,how='outer',on='org_uuid')\n",
        "Zs=pd.merge(Zs,SeriesC,how='outer',on='org_uuid')\n",
        "Zs=pd.merge(Zs,Seed,how='outer',on='org_uuid')\n",
        "Zs=pd.merge(Zs,Acquired,how='outer',on='org_uuid')\n",
        "Zs=pd.merge(Zs,IPO,how='outer',on='org_uuid')\n",
        "\n",
        "\n",
        "\n",
        "#Zs의 차이 계산\n",
        "Zs_Acq=Zs.copy()\n",
        "Zs_Acq['SeedDelta']=Zs_Acq['zAcq']-Zs_Acq['zSeed']\n",
        "Zs_Acq['ADelta']=Zs_Acq['zAcq']-Zs_Acq['zA']\n",
        "Zs_Acq['BDelta']=Zs_Acq['zAcq']-Zs_Acq['zB']\n",
        "Zs_Acq['CDelta']=Zs_Acq['zAcq']-Zs_Acq['zC']\n",
        "\n",
        "Zs_IPO=Zs.copy()\n",
        "Zs_IPO['SeedDelta']=Zs_IPO['zIPO']-Zs_IPO['zSeed']\n",
        "Zs_IPO['ADelta']=Zs_IPO['zIPO']-Zs_IPO['zA']\n",
        "Zs_IPO['BDelta']=Zs_IPO['zIPO']-Zs_IPO['zB']\n",
        "Zs_IPO['CDelta']=Zs_IPO['zIPO']-Zs_IPO['zC']\n",
        "\n",
        "#funding round 별 post_nomy_valuationd의 컬럼명 리스트에 할당\n",
        "post_money_valuations=['post_money_valuation_usd_Before','post_money_valuation_usd_Seed','post_money_valuation_usd_A','post_money_valuation_usd_B','post_money_valuation_usd_C']"
      ],
      "metadata": {
        "colab": {
          "base_uri": "https://localhost:8080/"
        },
        "id": "b0oX2Tt4BLS9",
        "outputId": "d3c3687e-f856-4a20-e15d-2a54469627bd"
      },
      "execution_count": null,
      "outputs": [
        {
          "output_type": "stream",
          "name": "stderr",
          "text": [
            "/usr/local/lib/python3.8/dist-packages/pandas/util/_decorators.py:311: SettingWithCopyWarning: \n",
            "A value is trying to be set on a copy of a slice from a DataFrame\n",
            "\n",
            "See the caveats in the documentation: https://pandas.pydata.org/pandas-docs/stable/user_guide/indexing.html#returning-a-view-versus-a-copy\n",
            "  return func(*args, **kwargs)\n",
            "<ipython-input-4-dc285cc16c44>:81: SettingWithCopyWarning: \n",
            "A value is trying to be set on a copy of a slice from a DataFrame.\n",
            "Try using .loc[row_indexer,col_indexer] = value instead\n",
            "\n",
            "See the caveats in the documentation: https://pandas.pydata.org/pandas-docs/stable/user_guide/indexing.html#returning-a-view-versus-a-copy\n",
            "  Acquired['zAcq']=(Acquired['price_usd']-mean_Acq)/dev_Acq\n",
            "<ipython-input-4-dc285cc16c44>:87: SettingWithCopyWarning: \n",
            "A value is trying to be set on a copy of a slice from a DataFrame.\n",
            "Try using .loc[row_indexer,col_indexer] = value instead\n",
            "\n",
            "See the caveats in the documentation: https://pandas.pydata.org/pandas-docs/stable/user_guide/indexing.html#returning-a-view-versus-a-copy\n",
            "  IPO['zIPO']=(IPO['valuation_price_usd']-mean_IPO)/dev_IPO\n"
          ]
        }
      ]
    },
    {
      "cell_type": "markdown",
      "source": [
        "##Rank 매기기"
      ],
      "metadata": {
        "id": "pwvGQvweG1Ga"
      }
    },
    {
      "cell_type": "markdown",
      "source": [
        "##IPO"
      ],
      "metadata": {
        "id": "xJt0WnKuKByr"
      }
    },
    {
      "cell_type": "code",
      "source": [
        "#1 Seed\n",
        "df_Ser_1=Zs_IPO.copy()\n",
        "df_Ser_1 = df_Ser_1.drop(df_Ser_1[df_Ser_1['SeedDelta'].isnull()].index)\n",
        "df_Ser_1['Rank_Seed']=0\n",
        "Ser_Delta='SeedDelta'\n",
        "\n",
        "#Delta 값 양수인 것과 음수 인 것의 개수 구하기\n",
        "Rank3=len(df_Ser_1[df_Ser_1['SeedDelta']>=0])\n",
        "Rank2=len(df_Ser_1[df_Ser_1['SeedDelta']<=0])\n",
        "\n",
        "#z값 양수: Rank 3, 4, z값 음수: Rank 1, 2 이며, \n",
        "#rank 3과 4 는 같은 개수, rank 1과 2는 같은 개수로 나눔\n",
        "\n",
        "Rank_make_1=[]\n",
        "df_Ser_1.sort_values(by='SeedDelta',ascending=False) #큰 것부터 나열(Rank4부터 차례로 z값 높은 것)\n",
        "\n",
        "#Rank 할당\n",
        "for num in range(len(df_Ser_1)):\n",
        "  Del=df_Ser_1['SeedDelta'].iloc[num]\n",
        "  if num<=Rank3/2:\n",
        "    Rank_make_1.append(4)\n",
        "  elif Del>=0:\n",
        "    Rank_make_1.append(3)\n",
        "  elif num<(Rank3+Rank2/2):\n",
        "    Rank_make_1.append(2)\n",
        "  else:\n",
        "    Rank_make_1.append(1)\n",
        "\n",
        "#IPO자료에 org_uuid를 기준으로 rank값 병합\n",
        "df_Ser_1['Rank_Seed']=Rank_make_1\n",
        "Zs_IPO_=pd.merge(Zs_IPO,df_Ser_1,how='outer',on='org_uuid')\n",
        "\n",
        "#2.SeriesA\n",
        "\n",
        "df_Ser_2=Zs_IPO.copy()\n",
        "df_Ser_2 = df_Ser_2.drop(df_Ser_2[df_Ser_2['ADelta'].isnull()].index)\n",
        "df_Ser_2['Rank_A']=0\n",
        "Ser_Delta='ADelta'\n",
        "\n",
        "Rank3=len(df_Ser_2[df_Ser_2['ADelta']>=0])\n",
        "Rank2=len(df_Ser_2[df_Ser_2['ADelta']<=0])\n",
        "Rank_make_2=[]\n",
        "df_Ser_2.sort_values(by='ADelta',ascending=False) #큰 것부터 나열\n",
        "\n",
        "for num in range(len(df_Ser_2)):\n",
        "  Del=df_Ser_2['ADelta'].iloc[num]\n",
        "  if num<=Rank3/2:\n",
        "    Rank_make_2.append(4)\n",
        "  elif Del>=0:\n",
        "    Rank_make_2.append(3)\n",
        "  elif num<(Rank3+Rank2/2):\n",
        "    Rank_make_2.append(2)\n",
        "  else:\n",
        "    Rank_make_2.append(1)\n",
        "\n",
        "\n",
        "df_Ser_2['Rank_A']=Rank_make_2\n",
        "Zs_IPO_=pd.merge(Zs_IPO_,df_Ser_2,how='outer',on='org_uuid')\n",
        "\n",
        "#3. SeriesB\n",
        "df_Ser_3=Zs_IPO.copy()\n",
        "df_Ser_3 = df_Ser_3.drop(df_Ser_3[df_Ser_3['BDelta'].isnull()].index)\n",
        "\n",
        "df_Ser_3['Rank_B']=0\n",
        "Ser_Delta='BDelta'\n",
        "\n",
        "Rank3=len(df_Ser_3[df_Ser_3['BDelta']>=0])\n",
        "Rank2=len(df_Ser_3[df_Ser_3['BDelta']<=0])\n",
        "\n",
        "\n",
        "Rank_make_3=[]\n",
        "df_Ser_3.sort_values(by='BDelta',ascending=False) #큰 것부터 나열\n",
        "for num in range(len(df_Ser_3)):\n",
        "  Del=df_Ser_3['BDelta'].iloc[num]\n",
        "  if num<=Rank3/2:\n",
        "    Rank_make_3.append(4)\n",
        "  elif Del>=0:\n",
        "    Rank_make_3.append(3)\n",
        "  elif num<(Rank3+Rank2/2):\n",
        "    Rank_make_3.append(2)\n",
        "  else:\n",
        "    Rank_make_3.append(1)\n",
        "\n",
        "\n",
        "\n",
        "df_Ser_3['Rank_B']=Rank_make_3\n",
        "Zs_IPO_=pd.merge(Zs_IPO_,df_Ser_3,how='outer',on='org_uuid')\n",
        "\n",
        "#4. SeriesC\n",
        "df_Ser_4=Zs_IPO.copy()\n",
        "df_Ser_4 = df_Ser_4.drop(df_Ser_4[df_Ser_4['CDelta'].isnull()].index)\n",
        "df_Ser_4['Rank_C']=0\n",
        "Ser_Delta='CDelta'\n",
        "\n",
        "Rank3=len(df_Ser_4[df_Ser_4['CDelta']>=0])\n",
        "Rank2=len(df_Ser_4[df_Ser_4['CDelta']<=0])\n",
        "Rank_make_3=[]\n",
        "df_Ser_4.sort_values(by='CDelta',ascending=False) #큰 것부터 나열\n",
        "\n",
        "for num in range(len(df_Ser_4)):\n",
        "  Del=df_Ser_4['CDelta'].iloc[num]\n",
        "  if num<=Rank3/2:\n",
        "    Rank_make_3.append(4)\n",
        "  elif Del>=0:\n",
        "    Rank_make_3.append(3)\n",
        "  elif num<(Rank3+Rank2/2):\n",
        "    Rank_make_3.append(2)\n",
        "  else:\n",
        "    Rank_make_3.append(1)\n",
        "\n",
        "\n",
        "\n",
        "df_Ser_4['Rank_C']=Rank_make_3\n",
        "Zs_IPO_=pd.merge(Zs_IPO_,df_Ser_4,how='outer',on='org_uuid')"
      ],
      "metadata": {
        "colab": {
          "base_uri": "https://localhost:8080/"
        },
        "id": "H037E9p9G2r3",
        "outputId": "2c98dd22-68ef-42d5-d624-68f0bfd676c7"
      },
      "execution_count": null,
      "outputs": [
        {
          "output_type": "stream",
          "name": "stderr",
          "text": [
            "<ipython-input-5-01fabca6b976>:87: FutureWarning: Passing 'suffixes' which cause duplicate columns {'zSeed_x', 'CDelta_x', 'ADelta_x', 'zB_x', 'zIPO_x', 'BDelta_x', 'raised_amount_usd_B_x', 'zAcq_x', 'SeedDelta_x', 'raised_amount_usd_A_x', 'zC_x', 'zA_x', 'raised_amount_usd_C_x', 'raised_amount_usd_Seed_x'} in the result is deprecated and will raise a MergeError in a future version.\n",
            "  Zs_IPO_=pd.merge(Zs_IPO_,df_Ser_3,how='outer',on='org_uuid')\n"
          ]
        }
      ]
    },
    {
      "cell_type": "code",
      "source": [
        "#각 랭크마다 개수\n",
        "Ranks_list=[\"Rank_A\",\"Rank_B\",\"Rank_C\",\"Rank_Seed\"]\n",
        "for i in Ranks_list:\n",
        "  j=Zs_IPO_[i].dropna(inplace=False)\n",
        "  print(len(j))"
      ],
      "metadata": {
        "colab": {
          "base_uri": "https://localhost:8080/"
        },
        "id": "JdaGW-rtK2K6",
        "outputId": "77013a70-9779-47ec-ca0f-72c3ab693fcd"
      },
      "execution_count": null,
      "outputs": [
        {
          "output_type": "stream",
          "name": "stdout",
          "text": [
            "369\n",
            "167\n",
            "178\n",
            "382\n"
          ]
        }
      ]
    },
    {
      "cell_type": "code",
      "source": [
        "Zs_IPO_.to_csv(\"./Dataset/Zs_IPO.csv\", index = False)"
      ],
      "metadata": {
        "id": "QBxM4WJuC0QR"
      },
      "execution_count": null,
      "outputs": []
    },
    {
      "cell_type": "markdown",
      "source": [
        "##Acq"
      ],
      "metadata": {
        "id": "Y57wh0H9K-xN"
      }
    },
    {
      "cell_type": "code",
      "source": [
        "#1 Seed\n",
        "df_Ser_1=Zs_Acq.copy()\n",
        "df_Ser_1 = df_Ser_1.drop(df_Ser_1[df_Ser_1['SeedDelta'].isnull()].index)\n",
        "df_Ser_1['Rank_Seed']=0\n",
        "Ser_Delta='SeedDelta'\n",
        "\n",
        "#Delta 값 양수인 것과 음수 인 것의 개수 구하기\n",
        "Rank3=len(df_Ser_1[df_Ser_1['SeedDelta']>=0])\n",
        "Rank2=len(df_Ser_1[df_Ser_1['SeedDelta']<=0])\n",
        "\n",
        "#z값 양수: Rank 3, 4, z값 음수: Rank 1, 2 이며, \n",
        "#rank 3과 4 는 같은 개수, rank 1과 2는 같은 개수로 나눔\n",
        "\n",
        "Rank_make_1=[]\n",
        "df_Ser_1.sort_values(by='SeedDelta',ascending=False) #큰 것부터 나열(Rank4부터 차례로 z값 높은 것)\n",
        "\n",
        "#Rank 할당\n",
        "for num in range(len(df_Ser_1)):\n",
        "  Del=df_Ser_1['SeedDelta'].iloc[num]\n",
        "  if num<=Rank3/2:\n",
        "    Rank_make_1.append(4)\n",
        "  elif Del>=0:\n",
        "    Rank_make_1.append(3)\n",
        "  elif num<(Rank3+Rank2/2):\n",
        "    Rank_make_1.append(2)\n",
        "  else:\n",
        "    Rank_make_1.append(1)\n",
        "\n",
        "#IPO자료에 org_uuid를 기준으로 rank값 병합\n",
        "df_Ser_1['Rank_Seed']=Rank_make_1\n",
        "Zs_Acq_=pd.merge(Zs_Acq,df_Ser_1,how='outer',on='org_uuid')\n",
        "\n",
        "#2.SeriesA\n",
        "\n",
        "df_Ser_2=Zs_Acq.copy()\n",
        "df_Ser_2 = df_Ser_2.drop(df_Ser_2[df_Ser_2['ADelta'].isnull()].index)\n",
        "df_Ser_2['Rank_A']=0\n",
        "Ser_Delta='ADelta'\n",
        "\n",
        "Rank3=len(df_Ser_2[df_Ser_2['ADelta']>=0])\n",
        "Rank2=len(df_Ser_2[df_Ser_2['ADelta']<=0])\n",
        "Rank_make_2=[]\n",
        "df_Ser_2.sort_values(by='ADelta',ascending=False) #큰 것부터 나열\n",
        "\n",
        "for num in range(len(df_Ser_2)):\n",
        "  Del=df_Ser_2['ADelta'].iloc[num]\n",
        "  if num<=Rank3/2:\n",
        "    Rank_make_2.append(4)\n",
        "  elif Del>=0:\n",
        "    Rank_make_2.append(3)\n",
        "  elif num<(Rank3+Rank2/2):\n",
        "    Rank_make_2.append(2)\n",
        "  else:\n",
        "    Rank_make_2.append(1)\n",
        "\n",
        "\n",
        "df_Ser_2['Rank_A']=Rank_make_2\n",
        "Zs_Acq_=pd.merge(Zs_Acq_,df_Ser_2,how='outer',on='org_uuid')\n",
        "\n",
        "#3. SeriesB\n",
        "df_Ser_3=Zs_Acq.copy()\n",
        "df_Ser_3 = df_Ser_3.drop(df_Ser_3[df_Ser_3['BDelta'].isnull()].index)\n",
        "\n",
        "df_Ser_3['Rank_B']=0\n",
        "Ser_Delta='BDelta'\n",
        "\n",
        "Rank3=len(df_Ser_3[df_Ser_3['BDelta']>=0])\n",
        "Rank2=len(df_Ser_3[df_Ser_3['BDelta']<=0])\n",
        "\n",
        "\n",
        "Rank_make_3=[]\n",
        "df_Ser_3.sort_values(by='BDelta',ascending=False) #큰 것부터 나열\n",
        "for num in range(len(df_Ser_3)):\n",
        "  Del=df_Ser_3['BDelta'].iloc[num]\n",
        "  if num<=Rank3/2:\n",
        "    Rank_make_3.append(4)\n",
        "  elif Del>=0:\n",
        "    Rank_make_3.append(3)\n",
        "  elif num<(Rank3+Rank2/2):\n",
        "    Rank_make_3.append(2)\n",
        "  else:\n",
        "    Rank_make_3.append(1)\n",
        "\n",
        "\n",
        "\n",
        "df_Ser_3['Rank_B']=Rank_make_3\n",
        "Zs_Acq_=pd.merge(Zs_Acq_,df_Ser_3,how='outer',on='org_uuid')\n",
        "\n",
        "#4. SeriesC\n",
        "df_Ser_4=Zs_Acq.copy()\n",
        "df_Ser_4 = df_Ser_4.drop(df_Ser_4[df_Ser_4['CDelta'].isnull()].index)\n",
        "df_Ser_4['Rank_C']=0\n",
        "Ser_Delta='CDelta'\n",
        "\n",
        "Rank3=len(df_Ser_4[df_Ser_4['CDelta']>=0])\n",
        "Rank2=len(df_Ser_4[df_Ser_4['CDelta']<=0])\n",
        "Rank_make_3=[]\n",
        "df_Ser_4.sort_values(by='CDelta',ascending=False) #큰 것부터 나열\n",
        "\n",
        "for num in range(len(df_Ser_4)):\n",
        "  Del=df_Ser_4['CDelta'].iloc[num]\n",
        "  if num<=Rank3/2:\n",
        "    Rank_make_3.append(4)\n",
        "  elif Del>=0:\n",
        "    Rank_make_3.append(3)\n",
        "  elif num<(Rank3+Rank2/2):\n",
        "    Rank_make_3.append(2)\n",
        "  else:\n",
        "    Rank_make_3.append(1)\n",
        "\n",
        "\n",
        "\n",
        "df_Ser_4['Rank_C']=Rank_make_3\n",
        "Zs_Acq_=pd.merge(Zs_Acq_,df_Ser_4,how='outer',on='org_uuid')"
      ],
      "metadata": {
        "colab": {
          "base_uri": "https://localhost:8080/"
        },
        "id": "W9HAWn6zK8E_",
        "outputId": "35194241-a069-4ccd-c55f-8a72750be3d8"
      },
      "execution_count": null,
      "outputs": [
        {
          "output_type": "stream",
          "name": "stderr",
          "text": [
            "<ipython-input-8-e0ecc63f5988>:87: FutureWarning: Passing 'suffixes' which cause duplicate columns {'zSeed_x', 'CDelta_x', 'ADelta_x', 'zB_x', 'zIPO_x', 'BDelta_x', 'raised_amount_usd_B_x', 'zAcq_x', 'SeedDelta_x', 'raised_amount_usd_A_x', 'zC_x', 'zA_x', 'raised_amount_usd_C_x', 'raised_amount_usd_Seed_x'} in the result is deprecated and will raise a MergeError in a future version.\n",
            "  Zs_Acq_=pd.merge(Zs_Acq_,df_Ser_3,how='outer',on='org_uuid')\n"
          ]
        }
      ]
    },
    {
      "cell_type": "code",
      "source": [
        "#각 랭크마다 개수\n",
        "Ranks_list=[\"Rank_A\",\"Rank_B\",\"Rank_C\",\"Rank_Seed\"]\n",
        "for i in Ranks_list:\n",
        "  j=Zs_Acq_[i].dropna(inplace=False)\n",
        "  print(len(j))"
      ],
      "metadata": {
        "colab": {
          "base_uri": "https://localhost:8080/"
        },
        "id": "jpyLek5aLWZ3",
        "outputId": "617ffce7-6cfe-4587-ddd9-e9ed31bc6574"
      },
      "execution_count": null,
      "outputs": [
        {
          "output_type": "stream",
          "name": "stdout",
          "text": [
            "386\n",
            "364\n",
            "92\n",
            "463\n"
          ]
        }
      ]
    },
    {
      "cell_type": "code",
      "source": [
        "Zs_Acq_.to_csv(\"./Dataset/Zs_Acq.csv\", index = False)"
      ],
      "metadata": {
        "id": "lHK_0YPONFBt"
      },
      "execution_count": null,
      "outputs": []
    }
  ]
}