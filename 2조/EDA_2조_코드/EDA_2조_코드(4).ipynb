{
  "nbformat": 4,
  "nbformat_minor": 0,
  "metadata": {
    "colab": {
      "provenance": [],
      "collapsed_sections": [
        "v93_H4kNjSOi",
        "uq6Lv9VHjkSq"
      ]
    },
    "kernelspec": {
      "name": "python3",
      "display_name": "Python 3"
    },
    "language_info": {
      "name": "python"
    }
  },
  "cells": [
    {
      "cell_type": "code",
      "execution_count": 2,
      "metadata": {
        "id": "SpYOt4KRelCO"
      },
      "outputs": [],
      "source": [
        "import numpy as np\n",
        "import pandas as pd\n",
        "import seaborn as sns\n",
        "import matplotlib.pyplot as plt\n",
        "from scipy import stats"
      ]
    },
    {
      "cell_type": "markdown",
      "source": [
        "#1. Series A,B,C 각 Series에서 Status에 따른 단일 투자의 평균 금액 비교"
      ],
      "metadata": {
        "id": "v93_H4kNjSOi"
      }
    },
    {
      "cell_type": "code",
      "source": [
        "#funding rounds와 organizations 불러오기\n",
        "df_1_fundingrounds=pd.read_csv('./Dataset/crunchbase_1/funding_rounds.csv')\n",
        "df_4_organ=pd.read_csv('./Dataset/crunchbase_4/organizations.csv')\n",
        "\n",
        "#orgs에서 uuid와 status를 추출해 df 생성, uuid를 org_uuid로 변경\n",
        "#funding rounds org_uuid, investment_type, raised_amount_usd 추출해 df 생성\n",
        "org_df1=df_4_organ[['uuid','status']].rename(columns={'uuid':'org_uuid'}).dropna(axis=0)\n",
        "fundround_df1=df_1_fundingrounds[['org_uuid','investment_type','raised_amount_usd']].dropna(axis=0)\n",
        "\n",
        "#org_df1과 fundround_df1 org_uuid에 대해 병합, investment type(series a,b,c)에 따라 각 df로 분류\n",
        "seriesmoney=pd.merge(fundround_df1,org_df1, how='left', on='org_uuid').dropna(axis=0)\n",
        "seriesA=seriesmoney[seriesmoney['investment_type']=='series_a']\n",
        "seriesB=seriesmoney[seriesmoney['investment_type']=='series_b']\n",
        "seriesC=seriesmoney[seriesmoney['investment_type']=='series_c']\n",
        "\n",
        "#Series A,B,C df 그룹화 해 평균낸 raised_amount_usd로 단일투자금액\n",
        "seriesA=seriesA.groupby(by=['org_uuid','status']).mean().reset_index().sort_values(by='status')\n",
        "seriesB=seriesB.groupby(by=['org_uuid','status']).mean().reset_index().sort_values(by='status')\n",
        "seriesC=seriesC.groupby(by=['org_uuid','status']).mean().reset_index().sort_values(by='status')\n",
        "\n",
        "#각 series별 단일투자금액에 대해 이분산 t-test 검정, Series 별 단일 투자 금액 평균이 유의한 차이를 갖는다는 것 확인\n",
        "t_stat,p_value = stats.ttest_ind(seriesA['raised_amount_usd'], seriesB['raised_amount_usd'], equal_var=False,alternative='two-sided')\n",
        "print('t-statistics:{}, p-value={}'.format(t_stat, p_value))\n",
        "t_stat,p_value = stats.ttest_ind(seriesB['raised_amount_usd'], seriesC['raised_amount_usd'], equal_var=False,alternative='two-sided')\n",
        "print('t-statistics:{}, p-value={}'.format(t_stat, p_value))\n",
        "\n",
        "#Series A, B, C 에 대해 status에 따라 새로운 df로 분류\n",
        "seriesA_ipo=seriesA[seriesA['status']=='ipo']['raised_amount_usd']\n",
        "seriesA_acq=seriesA[seriesA['status']=='acquired']['raised_amount_usd']\n",
        "seriesA_op=seriesA[seriesA['status']=='operating']['raised_amount_usd']\n",
        "seriesA_cl=seriesA[seriesA['status']=='closed']['raised_amount_usd']\n",
        "\n",
        "seriesB_ipo=seriesB[seriesB['status']=='ipo']['raised_amount_usd']\n",
        "seriesB_acq=seriesB[seriesB['status']=='acquired']['raised_amount_usd']\n",
        "seriesB_op=seriesB[seriesB['status']=='operating']['raised_amount_usd']\n",
        "seriesB_cl=seriesB[seriesB['status']=='closed']['raised_amount_usd']\n",
        "\n",
        "seriesC_ipo=seriesC[seriesC['status']=='ipo']['raised_amount_usd']\n",
        "seriesC_acq=seriesC[seriesC['status']=='acquired']['raised_amount_usd']\n",
        "seriesC_op=seriesC[seriesC['status']=='operating']['raised_amount_usd']\n",
        "seriesC_cl=seriesC[seriesC['status']=='closed']['raised_amount_usd']"
      ],
      "metadata": {
        "colab": {
          "base_uri": "https://localhost:8080/"
        },
        "id": "VrBLbE5eeyG6",
        "outputId": "d944730b-cbc6-4ed7-bb32-4ae52a449eca"
      },
      "execution_count": 3,
      "outputs": [
        {
          "output_type": "stream",
          "name": "stdout",
          "text": [
            "t-statistics:-19.436985794445384, p-value=7.735932359158978e-84\n",
            "t-statistics:-10.124781458890244, p-value=5.3761545770172755e-24\n"
          ]
        }
      ]
    },
    {
      "cell_type": "code",
      "source": [
        "#Series A,B,C에서 Status에 따른 단일투자금액 평균 시각화\n",
        "sns.set_palette(\"Set2\")\n",
        "\n",
        "sns.barplot(data = seriesA, x = 'status', y = 'raised_amount_usd', estimator = np.mean)\n",
        "plt.show()\n",
        "\n",
        "sns.barplot(data = seriesB, x = 'status', y = 'raised_amount_usd', estimator = np.mean)\n",
        "plt.show()\n",
        "\n",
        "sns.barplot(data = seriesC, x = 'status', y = 'raised_amount_usd', estimator = np.mean)\n",
        "plt.show()\n",
        "\n",
        "\n",
        "#Series A,B,C에 대해 ipo기업의 단일투자금액과 acquisition 기업의 단일투자금액 이분산 t-test\n",
        "t_stat,p_value = stats.ttest_ind(seriesA_ipo, seriesA_acq, equal_var=True,alternative='greater')\n",
        "print('t-statistics:{}, p-value={}'.format(t_stat, p_value))\n",
        "t_stat,p_value = stats.ttest_ind(seriesB_ipo, seriesB_acq, equal_var=True,alternative='two-sided')\n",
        "print('t-statistics:{}, p-value={}'.format(t_stat, p_value))\n",
        "t_stat,p_value = stats.ttest_ind(seriesC_ipo, seriesC_acq, equal_var=True,alternative='greater')\n",
        "print('t-statistics:{}, p-value={}'.format(t_stat, p_value))\n",
        "\n",
        "#Series A,B,C에 대해 acquisition 기업의 단일투자금액과 closed 기업의 단일투자금액 이분산 t-test\n",
        "\n",
        "t_stat,p_value = stats.ttest_ind(seriesA_acq, seriesA_cl, equal_var=True,alternative='greater')\n",
        "print('t-statistics:{}, p-value={}'.format(t_stat, p_value))\n",
        "t_stat,p_value = stats.ttest_ind(seriesB_acq, seriesB_cl, equal_var=True,alternative='two-sided')\n",
        "print('t-statistics:{}, p-value={}'.format(t_stat, p_value))\n",
        "t_stat,p_value = stats.ttest_ind(seriesC_acq, seriesC_cl, equal_var=True,alternative='greater')\n",
        "print('t-statistics:{}, p-value={}'.format(t_stat, p_value))\n"
      ],
      "metadata": {
        "colab": {
          "base_uri": "https://localhost:8080/",
          "height": 945
        },
        "id": "WrucdTHujYiu",
        "outputId": "9886ac1a-fece-4b60-d775-f07653d88118"
      },
      "execution_count": 4,
      "outputs": [
        {
          "output_type": "display_data",
          "data": {
            "text/plain": [
              "<Figure size 432x288 with 1 Axes>"
            ],
            "image/png": "[encoded data removed]"
          },
          "metadata": {
            "needs_background": "light"
          }
        },
        {
          "output_type": "display_data",
          "data": {
            "text/plain": [
              "<Figure size 432x288 with 1 Axes>"
            ],
            "image/png": "[encoded data removed]"
          },
          "metadata": {
            "needs_background": "light"
          }
        },
        {
          "output_type": "display_data",
          "data": {
            "text/plain": [
              "<Figure size 432x288 with 1 Axes>"
            ],
            "image/png": "[encoded data removed]"
          },
          "metadata": {
            "needs_background": "light"
          }
        },
        {
          "output_type": "stream",
          "name": "stdout",
          "text": [
            "t-statistics:2.722802579222628, p-value=0.003244133349395021\n",
            "t-statistics:12.971652527589072, p-value=6.58937407993308e-38\n",
            "t-statistics:14.824967676703716, p-value=2.2141462535823733e-48\n",
            "t-statistics:1.4211285930868736, p-value=0.07765396165747405\n",
            "t-statistics:0.7873889891401095, p-value=0.43108031190589746\n",
            "t-statistics:-1.0367267708984964, p-value=0.8500351046260799\n"
          ]
        }
      ]
    },
    {
      "cell_type": "markdown",
      "source": [
        "#2. Series A,B,C 각 Series에서 최종 회사 가치에 따른 단일 투자의 평균 금액 비교"
      ],
      "metadata": {
        "id": "uq6Lv9VHjkSq"
      }
    },
    {
      "cell_type": "code",
      "source": [
        "Ranks=pd.read_csv('./Dataset/Ranks.csv')\n",
        "#Ranks df에서 'org_uuid','Rank_IPO','Rank_Acq' 추출\n",
        "ranks=Ranks[['org_uuid','Rank_IPO','Rank_Acq']]\n",
        "\n",
        "#Series A/B/C df와 rank 결합\n",
        "seriesArank=pd.merge(seriesA,ranks,how='left',on='org_uuid')\n",
        "seriesBrank=pd.merge(seriesB,ranks,how='left',on='org_uuid')\n",
        "seriesCrank=pd.merge(seriesC,ranks,how='left',on='org_uuid')\n",
        "\n",
        "#rank_ipo와 rank acq 가진 기업 분류해 새로운 df 생성, Series A,B,C에 대해 진행\n",
        "seriesArank_ipo=seriesArank[['org_uuid','raised_amount_usd','status','Rank_IPO']].sort_values('Rank_IPO').dropna(axis=0)\n",
        "seriesArank_acq=seriesArank[['org_uuid','raised_amount_usd','status','Rank_Acq']].sort_values('Rank_Acq').dropna(axis=0)\n",
        "\n",
        "seriesBrank_ipo=seriesBrank[['org_uuid','raised_amount_usd','status','Rank_IPO']].sort_values('Rank_IPO').dropna(axis=0)\n",
        "seriesBrank_acq=seriesBrank[['org_uuid','raised_amount_usd','status','Rank_Acq']].sort_values('Rank_Acq').dropna(axis=0)\n",
        "\n",
        "seriesCrank_ipo=seriesCrank[['org_uuid','raised_amount_usd','status','Rank_IPO']].sort_values('Rank_IPO').dropna(axis=0)\n",
        "seriesCrank_acq=seriesCrank[['org_uuid','raised_amount_usd','status','Rank_Acq']].sort_values('Rank_Acq').dropna(axis=0)\n",
        "\n",
        "#Series A,B,C에 대해 ipo rank에 따른 단일투자금액 평균 시각화\n",
        "sns.barplot(data = seriesArank_ipo, x = 'Rank_IPO', y = 'raised_amount_usd', estimator = np.mean)\n",
        "plt.show()\n",
        "\n",
        "sns.barplot(data = seriesBrank_ipo, x = 'Rank_IPO', y = 'raised_amount_usd', estimator = np.mean)\n",
        "plt.show()\n",
        "\n",
        "sns.barplot(data = seriesCrank_ipo, x = 'Rank_IPO', y = 'raised_amount_usd', estimator = np.mean)\n",
        "plt.show()\n",
        "\n",
        "#Series A,B,C에 대해 acq rank에 따른 단일투자금액 평균 시각화\n",
        "sns.barplot(data = seriesArank_acq, x = 'Rank_Acq', y = 'raised_amount_usd', estimator = np.mean)\n",
        "plt.show()\n",
        "\n",
        "sns.barplot(data = seriesBrank_acq, x = 'Rank_Acq', y = 'raised_amount_usd', estimator = np.mean)\n",
        "plt.show()\n",
        "\n",
        "sns.barplot(data = seriesCrank_acq, x = 'Rank_Acq', y = 'raised_amount_usd', estimator = np.mean)\n",
        "plt.show()"
      ],
      "metadata": {
        "colab": {
          "base_uri": "https://localhost:8080/",
          "height": 1000
        },
        "id": "x2-el2BBjZ2F",
        "outputId": "fe0c6f2f-4533-43d1-d453-5841298c3186"
      },
      "execution_count": 6,
      "outputs": [
        {
          "output_type": "display_data",
          "data": {
            "text/plain": [
              "<Figure size 432x288 with 1 Axes>"
            ],
            "image/png": "[encoded data removed]"
          },
          "metadata": {
            "needs_background": "light"
          }
        },
        {
          "output_type": "display_data",
          "data": {
            "text/plain": [
              "<Figure size 432x288 with 1 Axes>"
            ],
            "image/png": "[encoded data removed]"
          },
          "metadata": {
            "needs_background": "light"
          }
        },
        {
          "output_type": "display_data",
          "data": {
            "text/plain": [
              "<Figure size 432x288 with 1 Axes>"
            ],
            "image/png": "[encoded data removed]"
          },
          "metadata": {
            "needs_background": "light"
          }
        },
        {
          "output_type": "display_data",
          "data": {
            "text/plain": [
              "<Figure size 432x288 with 1 Axes>"
            ],
            "image/png": "[encoded data removed]"
          },
          "metadata": {
            "needs_background": "light"
          }
        },
        {
          "output_type": "display_data",
          "data": {
            "text/plain": [
              "<Figure size 432x288 with 1 Axes>"
            ],
            "image/png": "[encoded data removed]"
          },
          "metadata": {
            "needs_background": "light"
          }
        },
        {
          "output_type": "display_data",
          "data": {
            "text/plain": [
              "<Figure size 432x288 with 1 Axes>"
            ],
            "image/png": "[encoded data removed]"
          },
          "metadata": {
            "needs_background": "light"
          }
        }
      ]
    },
    {
      "cell_type": "markdown",
      "source": [
        "시각화1) 나라별 & 주별 총 투자금\n",
        "\n",
        "시각화2) 나라별 & 주별 기업 수"
      ],
      "metadata": {
        "id": "JIT3JCeGk3FE"
      }
    },
    {
      "cell_type": "markdown",
      "source": [
        "#3. Series A,B,C 각 Series에서 저평가(또는 고평가)된 정도에 따른 단일 투자의 평균 금액 비교"
      ],
      "metadata": {
        "id": "6tUEjziekBic"
      }
    },
    {
      "cell_type": "code",
      "source": [
        "#Data import\n",
        "Zs_IPO_=pd.read_csv('./Dataset/Zs_IPO.csv')\n",
        "Zs_Acq_=pd.read_csv('./Dataset/Zs_Acq.csv')"
      ],
      "metadata": {
        "id": "kvr9ICZwlnNc"
      },
      "execution_count": 13,
      "outputs": []
    },
    {
      "cell_type": "code",
      "source": [
        "from scipy import stats\n",
        "from scipy.stats import shapiro\n",
        "from scipy.stats import bartlett\n",
        "from scipy.stats import ttest_ind\n",
        "from scipy.stats import wilcoxon\n",
        "import seaborn as sns\n",
        "import matplotlib.pyplot as plt"
      ],
      "metadata": {
        "id": "AbOrWdBxmKIP"
      },
      "execution_count": 9,
      "outputs": []
    },
    {
      "cell_type": "markdown",
      "source": [
        "##IPO"
      ],
      "metadata": {
        "id": "J9BfmFAQkJOU"
      }
    },
    {
      "cell_type": "markdown",
      "source": [
        "정규성, 등분산성 검정"
      ],
      "metadata": {
        "id": "koxv50VZmkvB"
      }
    },
    {
      "cell_type": "code",
      "source": [
        "Ranks_list_=[\"Rank_Seed\",\"Rank_A\",\"Rank_B\",\"Rank_C\"]\n",
        "raised_amount_usds=['raised_amount_usd_Seed','raised_amount_usd_A','raised_amount_usd_B','raised_amount_usd_C']\n",
        "df_seed=[]\n",
        "\n",
        "for i in range(len(Ranks_list_)):\n",
        "  Rank_u=Zs_IPO_.copy()\n",
        "  Rank_u=Rank_u.drop(Rank_u[Rank_u[Ranks_list_[i]].isnull()].index)\n",
        "  Rank_u=Rank_u.drop(Rank_u[Rank_u[raised_amount_usds[i]].isnull()].index)\n",
        "  for j in range(1,4):\n",
        "    try:\n",
        "      print(\"\\n\\n>>>>>>>>>>>>\",Ranks_list_[i],\"<<<<<<<<<<<<<<<<<\")\n",
        "      print(\"rank\",j,\"vs rank\",j+1)\n",
        "      print(\"등분산성 검정\")\n",
        "      print(bartlett(Rank_u[Rank_u[Ranks_list_[i]]==j][raised_amount_usds[i]],Rank_u[Rank_u[Ranks_list_[i]]==j+1][raised_amount_usds[i]]))\n",
        "\n",
        "      print(\"t-test\")\n",
        "      #print(stats.ttest_ind(Rank_u[Rank_u[Ranks_list_[i]]==2][raised_amount_usds[i]],Rank_u[Rank_u[Ranks_list_[i]]==3][raised_amount_usds[i]],var_equal=False))\n",
        "      print(stats.ttest_ind(Rank_u[Rank_u[Ranks_list_[i]]==j][raised_amount_usds[i]],Rank_u[Rank_u[Ranks_list_[i]]==j+1][raised_amount_usds[i]],equal_var=False))\n",
        "    except:\n",
        "      pass\n",
        "  try:\n",
        "      print(\"\\n\\n>>>>>>>>>>>>\",Ranks_list_[i],\"<<<<<<<<<<<<<<<<<\")\n",
        "      print(\"rank\",1,\"vs rank\",3)\n",
        "      print(\"등분산성 검정\")\n",
        "      print(bartlett(Rank_u[Rank_u[Ranks_list_[i]]==1][raised_amount_usds[i]],Rank_u[Rank_u[Ranks_list_[i]]==3][raised_amount_usds[i]]))\n",
        "\n",
        "      print(\"t-test\")\n",
        "        #print(stats.ttest_ind(Rank_u[Rank_u[Ranks_list_[i]]==2][raised_amount_usds[i]],Rank_u[Rank_u[Ranks_list_[i]]==3][raised_amount_usds[i]],var_equal=False))\n",
        "      print(stats.ttest_ind(Rank_u[Rank_u[Ranks_list_[i]]==1][raised_amount_usds[i]],Rank_u[Rank_u[Ranks_list_[i]]==3][raised_amount_usds[i]],equal_var=False))\n",
        "  except:\n",
        "      pass\n",
        "\n",
        "  try:\n",
        "    print(\"\\n\\n>>>>>>>>>>>>\",Ranks_list_[i],\"<<<<<<<<<<<<<<<<<\")\n",
        "    print(\"rank\",2,\"vs rank\",4)\n",
        "    print(\"등분산성 검정\")\n",
        "    print(bartlett(Rank_u[Rank_u[Ranks_list_[i]]==2][raised_amount_usds[i]],Rank_u[Rank_u[Ranks_list_[i]]==4][raised_amount_usds[i]]))\n",
        "\n",
        "    print(\"t-test\")\n",
        "    #print(stats.ttest_ind(Rank_u[Rank_u[Ranks_list_[i]]==2][raised_amount_usds[i]],Rank_u[Rank_u[Ranks_list_[i]]==3][raised_amount_usds[i]],var_equal=False))\n",
        "    print(stats.ttest_ind(Rank_u[Rank_u[Ranks_list_[i]]==2][raised_amount_usds[i]],Rank_u[Rank_u[Ranks_list_[i]]==4][raised_amount_usds[i]],equal_var=False))\n",
        "  except:\n",
        "    pass    \n",
        "  try:\n",
        "    print(\"\\n\\n>>>>>>>>>>>>\",Ranks_list_[i],\"<<<<<<<<<<<<<<<<<\")\n",
        "    print(\"rank\",\"low\",\"vs rank\",\"high\")\n",
        "    print(\"등분산성 검정\")\n",
        "    print(bartlett(Rank_u[Rank_u[Ranks_list_[i]]<=2][raised_amount_usds[i]],Rank_u[Rank_u[Ranks_list_[i]]>=4][raised_amount_usds[i]]))\n",
        "\n",
        "    print(\"t-test\")\n",
        "    #print(stats.ttest_ind(Rank_u[Rank_u[Ranks_list_[i]]==2][raised_amount_usds[i]],Rank_u[Rank_u[Ranks_list_[i]]==3][raised_amount_usds[i]],var_equal=False))\n",
        "    print(stats.ttest_ind(Rank_u[Rank_u[Ranks_list_[i]]<=2][raised_amount_usds[i]],Rank_u[Rank_u[Ranks_list_[i]]>=4][raised_amount_usds[i]],equal_var=False))\n",
        "  except:\n",
        "    pass      \n"
      ],
      "metadata": {
        "colab": {
          "base_uri": "https://localhost:8080/"
        },
        "id": "Cpxgi_NVkInQ",
        "outputId": "76da5e84-bdeb-4ac3-bd40-a0f7c341945c"
      },
      "execution_count": 15,
      "outputs": [
        {
          "output_type": "stream",
          "name": "stdout",
          "text": [
            "\n",
            "\n",
            ">>>>>>>>>>>> Rank_Seed <<<<<<<<<<<<<<<<<\n",
            "rank 1 vs rank 2\n",
            "등분산성 검정\n",
            "BartlettResult(statistic=nan, pvalue=nan)\n",
            "t-test\n",
            "Ttest_indResult(statistic=nan, pvalue=nan)\n",
            "\n",
            "\n",
            ">>>>>>>>>>>> Rank_Seed <<<<<<<<<<<<<<<<<\n",
            "rank 2 vs rank 3\n",
            "등분산성 검정\n",
            "BartlettResult(statistic=110.86719625478653, pvalue=6.32703353944724e-26)\n",
            "t-test\n",
            "Ttest_indResult(statistic=0.5918733163003107, pvalue=0.613921236166359)\n",
            "\n",
            "\n",
            ">>>>>>>>>>>> Rank_Seed <<<<<<<<<<<<<<<<<\n",
            "rank 3 vs rank 4\n",
            "등분산성 검정\n",
            "BartlettResult(statistic=nan, pvalue=nan)\n",
            "t-test\n",
            "Ttest_indResult(statistic=nan, pvalue=nan)\n",
            "\n",
            "\n",
            ">>>>>>>>>>>> Rank_Seed <<<<<<<<<<<<<<<<<\n",
            "rank 1 vs rank 3\n",
            "등분산성 검정\n",
            "BartlettResult(statistic=nan, pvalue=nan)\n",
            "t-test\n",
            "Ttest_indResult(statistic=nan, pvalue=nan)\n",
            "\n",
            "\n",
            ">>>>>>>>>>>> Rank_Seed <<<<<<<<<<<<<<<<<\n",
            "rank 2 vs rank 4\n",
            "등분산성 검정\n",
            "BartlettResult(statistic=nan, pvalue=nan)\n",
            "t-test\n",
            "Ttest_indResult(statistic=nan, pvalue=nan)\n",
            "\n",
            "\n",
            ">>>>>>>>>>>> Rank_Seed <<<<<<<<<<<<<<<<<\n",
            "rank low vs rank high\n",
            "등분산성 검정\n",
            "BartlettResult(statistic=nan, pvalue=nan)\n",
            "t-test\n",
            "Ttest_indResult(statistic=nan, pvalue=nan)\n",
            "\n",
            "\n",
            ">>>>>>>>>>>> Rank_A <<<<<<<<<<<<<<<<<\n",
            "rank 1 vs rank 2\n",
            "등분산성 검정\n",
            "BartlettResult(statistic=nan, pvalue=nan)\n",
            "t-test\n",
            "Ttest_indResult(statistic=nan, pvalue=nan)\n",
            "\n",
            "\n",
            ">>>>>>>>>>>> Rank_A <<<<<<<<<<<<<<<<<\n",
            "rank 2 vs rank 3\n",
            "등분산성 검정\n",
            "BartlettResult(statistic=nan, pvalue=nan)\n",
            "t-test\n",
            "Ttest_indResult(statistic=nan, pvalue=nan)\n",
            "\n",
            "\n",
            ">>>>>>>>>>>> Rank_A <<<<<<<<<<<<<<<<<\n",
            "rank 3 vs rank 4\n",
            "등분산성 검정\n"
          ]
        },
        {
          "output_type": "stream",
          "name": "stderr",
          "text": [
            "/usr/local/lib/python3.8/dist-packages/scipy/stats/morestats.py:2468: RuntimeWarning: divide by zero encountered in true_divide\n",
            "  denom = 1.0 + 1.0/(3*(k - 1)) * ((np.sum(1.0/(Ni - 1.0), axis=0)) -\n",
            "/usr/local/lib/python3.8/dist-packages/numpy/core/fromnumeric.py:3723: RuntimeWarning: Degrees of freedom <= 0 for slice\n",
            "  return _methods._var(a, axis=axis, dtype=dtype, out=out, ddof=ddof,\n",
            "/usr/local/lib/python3.8/dist-packages/numpy/core/_methods.py:254: RuntimeWarning: invalid value encountered in double_scalars\n",
            "  ret = ret.dtype.type(ret / rcount)\n"
          ]
        },
        {
          "output_type": "stream",
          "name": "stdout",
          "text": [
            "BartlettResult(statistic=10.49731634716425, pvalue=0.0011954805064202036)\n",
            "t-test\n",
            "Ttest_indResult(statistic=2.5309719328660445, pvalue=0.014142151993910862)\n",
            "\n",
            "\n",
            ">>>>>>>>>>>> Rank_A <<<<<<<<<<<<<<<<<\n",
            "rank 1 vs rank 3\n",
            "등분산성 검정\n",
            "BartlettResult(statistic=nan, pvalue=nan)\n",
            "t-test\n",
            "Ttest_indResult(statistic=nan, pvalue=nan)\n",
            "\n",
            "\n",
            ">>>>>>>>>>>> Rank_A <<<<<<<<<<<<<<<<<\n",
            "rank 2 vs rank 4\n",
            "등분산성 검정\n",
            "BartlettResult(statistic=nan, pvalue=nan)\n",
            "t-test\n",
            "Ttest_indResult(statistic=nan, pvalue=nan)\n",
            "\n",
            "\n",
            ">>>>>>>>>>>> Rank_A <<<<<<<<<<<<<<<<<\n",
            "rank low vs rank high\n",
            "등분산성 검정\n",
            "BartlettResult(statistic=nan, pvalue=nan)\n",
            "t-test\n",
            "Ttest_indResult(statistic=nan, pvalue=nan)\n",
            "\n",
            "\n",
            ">>>>>>>>>>>> Rank_B <<<<<<<<<<<<<<<<<\n",
            "rank 1 vs rank 2\n",
            "등분산성 검정\n",
            "BartlettResult(statistic=5.4469391689513165, pvalue=0.01960264234803992)\n",
            "t-test\n",
            "Ttest_indResult(statistic=1.3477421812886148, pvalue=0.403044466373176)\n",
            "\n",
            "\n",
            ">>>>>>>>>>>> Rank_B <<<<<<<<<<<<<<<<<\n",
            "rank 2 vs rank 3\n",
            "등분산성 검정\n",
            "BartlettResult(statistic=11.867906943674875, pvalue=0.0005710955922218861)\n",
            "t-test\n",
            "Ttest_indResult(statistic=-3.0545176206425446, pvalue=0.004754305357954296)\n",
            "\n",
            "\n",
            ">>>>>>>>>>>> Rank_B <<<<<<<<<<<<<<<<<\n",
            "rank 3 vs rank 4\n",
            "등분산성 검정\n",
            "BartlettResult(statistic=17.15860945031937, pvalue=3.438473837086059e-05)\n",
            "t-test\n",
            "Ttest_indResult(statistic=0.8944018536653012, pvalue=0.37470115551358796)\n",
            "\n",
            "\n",
            ">>>>>>>>>>>> Rank_B <<<<<<<<<<<<<<<<<\n",
            "rank 1 vs rank 3\n",
            "등분산성 검정\n",
            "BartlettResult(statistic=0.14792188798635936, pvalue=0.700529239492772)\n",
            "t-test\n",
            "Ttest_indResult(statistic=0.6003952937722298, pvalue=0.6483102647473957)\n",
            "\n",
            "\n",
            ">>>>>>>>>>>> Rank_B <<<<<<<<<<<<<<<<<\n",
            "rank 2 vs rank 4\n",
            "등분산성 검정\n",
            "BartlettResult(statistic=28.69326601345463, pvalue=8.479808769085471e-08)\n",
            "t-test\n",
            "Ttest_indResult(statistic=-0.8212530443223144, pvalue=0.4157604287532247)\n",
            "\n",
            "\n",
            ">>>>>>>>>>>> Rank_B <<<<<<<<<<<<<<<<<\n",
            "rank low vs rank high\n",
            "등분산성 검정\n",
            "BartlettResult(statistic=17.524713226783607, pvalue=2.8359737254094692e-05)\n",
            "t-test\n",
            "Ttest_indResult(statistic=-0.2862132952053513, pvalue=0.7758338521303946)\n",
            "\n",
            "\n",
            ">>>>>>>>>>>> Rank_C <<<<<<<<<<<<<<<<<\n",
            "rank 1 vs rank 2\n",
            "등분산성 검정\n",
            "BartlettResult(statistic=0.08380481953582924, pvalue=0.772205956295128)\n",
            "t-test\n",
            "Ttest_indResult(statistic=0.011361466888887135, pvalue=0.9912395386057522)\n",
            "\n",
            "\n",
            ">>>>>>>>>>>> Rank_C <<<<<<<<<<<<<<<<<\n",
            "rank 2 vs rank 3\n",
            "등분산성 검정\n",
            "BartlettResult(statistic=5.154945316335992, pvalue=0.02318026550633496)\n",
            "t-test\n",
            "Ttest_indResult(statistic=0.25963460497347507, pvalue=0.7984785473249457)\n",
            "\n",
            "\n",
            ">>>>>>>>>>>> Rank_C <<<<<<<<<<<<<<<<<\n",
            "rank 3 vs rank 4\n",
            "등분산성 검정\n",
            "BartlettResult(statistic=0.8309867206703282, pvalue=0.3619873635573678)\n",
            "t-test\n",
            "Ttest_indResult(statistic=-2.903536344015914, pvalue=0.004395763050603093)\n",
            "\n",
            "\n",
            ">>>>>>>>>>>> Rank_C <<<<<<<<<<<<<<<<<\n",
            "rank 1 vs rank 3\n",
            "등분산성 검정\n",
            "BartlettResult(statistic=3.209479007573301, pvalue=0.07321279222051703)\n",
            "t-test\n",
            "Ttest_indResult(statistic=0.25256839335590275, pvalue=0.8080421876597006)\n",
            "\n",
            "\n",
            ">>>>>>>>>>>> Rank_C <<<<<<<<<<<<<<<<<\n",
            "rank 2 vs rank 4\n",
            "등분산성 검정\n",
            "BartlettResult(statistic=4.270653020008012, pvalue=0.03877602602064939)\n",
            "t-test\n",
            "Ttest_indResult(statistic=-2.220536901483138, pvalue=0.04910002484498508)\n",
            "\n",
            "\n",
            ">>>>>>>>>>>> Rank_C <<<<<<<<<<<<<<<<<\n",
            "rank low vs rank high\n",
            "등분산성 검정\n",
            "BartlettResult(statistic=8.687128067164311, pvalue=0.0032046518462694705)\n",
            "t-test\n",
            "Ttest_indResult(statistic=-2.7649514880167034, pvalue=0.010336649154032781)\n"
          ]
        }
      ]
    },
    {
      "cell_type": "markdown",
      "source": [
        "Series A,B,C 각 Series에서 저평가(또는 고평가)된 정도에 따른 단일 투자의 평균 금액 비교"
      ],
      "metadata": {
        "id": "JR-eODDFpxuq"
      }
    },
    {
      "cell_type": "code",
      "source": [
        "Ranks_list_=[\"Rank_Seed\",\"Rank_A\",\"Rank_B\",\"Rank_C\"]\n",
        "raised_amount_usds=['raised_amount_usd_Seed','raised_amount_usd_A','raised_amount_usd_B','raised_amount_usd_C']\n",
        "df_seed=[]\n",
        "\n",
        "for i in range(len(Ranks_list_)-1):\n",
        "\n",
        "  print(\">>>>>>>>>>>>\",Ranks_list_[i],\"<<<<<<<<<<<<<<<<<\")\n",
        "  Rank_u=Zs_IPO_.copy()\n",
        "  Rank_u=Rank_u.drop(Rank_u[Rank_u[Ranks_list_[i]].isnull()].index)\n",
        "  Rank_u=Rank_u.drop(Rank_u[Rank_u[raised_amount_usds[i]].isnull()].index)\n",
        "  print(\"총 데이터 수: \",len(Rank_u))\n",
        "  for rank_ in range(1,5):\n",
        "    print(rank_,\"에 속하는 데이터 수: \",len(Rank_u[Rank_u[Ranks_list_[i]]==rank_]))\n",
        "    print(rank_,\"의 seed 평균: \",Rank_u[Rank_u[Ranks_list_[i]]==rank_][raised_amount_usds[i+1]].mean())\n",
        "    \n",
        "\n",
        "  sns.barplot(data =Rank_u, x =Ranks_list_[i], y = raised_amount_usds[i], estimator = np.mean)\n",
        "  sns.set_palette(\"Set2\")\n",
        "  plt.show()"
      ],
      "metadata": {
        "colab": {
          "base_uri": "https://localhost:8080/",
          "height": 1000
        },
        "id": "478QDThbp3Nx",
        "outputId": "332d0f57-d83e-4fb0-bba9-51689735c363"
      },
      "execution_count": 16,
      "outputs": [
        {
          "output_type": "stream",
          "name": "stdout",
          "text": [
            ">>>>>>>>>>>> Rank_Seed <<<<<<<<<<<<<<<<<\n",
            "총 데이터 수:  37\n",
            "1 에 속하는 데이터 수:  0\n",
            "1 의 seed 평균:  nan\n",
            "2 에 속하는 데이터 수:  3\n",
            "2 의 seed 평균:  7661231.0\n",
            "3 에 속하는 데이터 수:  34\n",
            "3 의 seed 평균:  11000000.0\n",
            "4 에 속하는 데이터 수:  0\n",
            "4 의 seed 평균:  nan\n"
          ]
        },
        {
          "output_type": "display_data",
          "data": {
            "text/plain": [
              "<Figure size 432x288 with 1 Axes>"
            ],
            "image/png": "[encoded data removed]"
          },
          "metadata": {
            "needs_background": "light"
          }
        },
        {
          "output_type": "stream",
          "name": "stdout",
          "text": [
            ">>>>>>>>>>>> Rank_A <<<<<<<<<<<<<<<<<\n",
            "총 데이터 수:  61\n",
            "1 에 속하는 데이터 수:  0\n",
            "1 의 seed 평균:  nan\n",
            "2 에 속하는 데이터 수:  1\n",
            "2 의 seed 평균:  128600000.0\n",
            "3 에 속하는 데이터 수:  57\n",
            "3 의 seed 평균:  91689121.87179486\n",
            "4 에 속하는 데이터 수:  3\n",
            "4 의 seed 평균:  5112499.0\n"
          ]
        },
        {
          "output_type": "display_data",
          "data": {
            "text/plain": [
              "<Figure size 432x288 with 1 Axes>"
            ],
            "image/png": "[encoded data removed]"
          },
          "metadata": {
            "needs_background": "light"
          }
        },
        {
          "output_type": "stream",
          "name": "stdout",
          "text": [
            ">>>>>>>>>>>> Rank_B <<<<<<<<<<<<<<<<<\n",
            "총 데이터 수:  78\n",
            "1 에 속하는 데이터 수:  2\n",
            "1 의 seed 평균:  350000000.0\n",
            "2 에 속하는 데이터 수:  11\n",
            "2 의 seed 평균:  55616595.2\n",
            "3 에 속하는 데이터 수:  23\n",
            "3 의 seed 평균:  204725392.57142857\n",
            "4 에 속하는 데이터 수:  42\n",
            "4 의 seed 평균:  279644255.95238096\n"
          ]
        },
        {
          "output_type": "display_data",
          "data": {
            "text/plain": [
              "<Figure size 432x288 with 1 Axes>"
            ],
            "image/png": "[encoded data removed]"
          },
          "metadata": {
            "needs_background": "light"
          }
        }
      ]
    },
    {
      "cell_type": "markdown",
      "source": [
        "##Acq"
      ],
      "metadata": {
        "id": "iUweYG6SkKiB"
      }
    },
    {
      "cell_type": "markdown",
      "source": [
        "정규성, 등분산성 검정"
      ],
      "metadata": {
        "id": "pnSn-GsHqKOR"
      }
    },
    {
      "cell_type": "code",
      "source": [
        "Ranks_list_=[\"Rank_Seed\",\"Rank_A\",\"Rank_B\",\"Rank_C\"]\n",
        "raised_amount_usds=['raised_amount_usd_Seed','raised_amount_usd_A','raised_amount_usd_B','raised_amount_usd_C']\n",
        "df_seed=[]\n",
        "\n",
        "for i in range(len(Ranks_list_)):\n",
        "  Rank_u=Zs_Acq_.copy()\n",
        "  Rank_u=Rank_u.drop(Rank_u[Rank_u[Ranks_list_[i]].isnull()].index)\n",
        "  Rank_u=Rank_u.drop(Rank_u[Rank_u[raised_amount_usds[i]].isnull()].index)\n",
        "  for j in range(1,4):\n",
        "    try:\n",
        "      print(\"\\n\\n>>>>>>>>>>>>\",Ranks_list_[i],\"<<<<<<<<<<<<<<<<<\")\n",
        "      print(\"rank\",j,\"vs rank\",j+1)\n",
        "      print(\"등분산성 검정\")\n",
        "      print(bartlett(Rank_u[Rank_u[Ranks_list_[i]]==j][raised_amount_usds[i]],Rank_u[Rank_u[Ranks_list_[i]]==j+1][raised_amount_usds[i]]))\n",
        "\n",
        "      print(\"t-test\")\n",
        "      #print(stats.ttest_ind(Rank_u[Rank_u[Ranks_list_[i]]==2][raised_amount_usds[i]],Rank_u[Rank_u[Ranks_list_[i]]==3][raised_amount_usds[i]],var_equal=False))\n",
        "      print(stats.ttest_ind(Rank_u[Rank_u[Ranks_list_[i]]==j][raised_amount_usds[i]],Rank_u[Rank_u[Ranks_list_[i]]==j+1][raised_amount_usds[i]],equal_var=False))\n",
        "    except:\n",
        "      pass\n",
        "  try:\n",
        "      print(\"\\n\\n>>>>>>>>>>>>\",Ranks_list_[i],\"<<<<<<<<<<<<<<<<<\")\n",
        "      print(\"rank\",1,\"vs rank\",3)\n",
        "      print(\"등분산성 검정\")\n",
        "      print(bartlett(Rank_u[Rank_u[Ranks_list_[i]]==1][raised_amount_usds[i]],Rank_u[Rank_u[Ranks_list_[i]]==3][raised_amount_usds[i]]))\n",
        "\n",
        "      print(\"t-test\")\n",
        "        #print(stats.ttest_ind(Rank_u[Rank_u[Ranks_list_[i]]==2][raised_amount_usds[i]],Rank_u[Rank_u[Ranks_list_[i]]==3][raised_amount_usds[i]],var_equal=False))\n",
        "      print(stats.ttest_ind(Rank_u[Rank_u[Ranks_list_[i]]==1][raised_amount_usds[i]],Rank_u[Rank_u[Ranks_list_[i]]==3][raised_amount_usds[i]],equal_var=False))\n",
        "  except:\n",
        "      pass\n",
        "\n",
        "  try:\n",
        "    print(\"\\n\\n>>>>>>>>>>>>\",Ranks_list_[i],\"<<<<<<<<<<<<<<<<<\")\n",
        "    print(\"rank\",2,\"vs rank\",4)\n",
        "    print(\"등분산성 검정\")\n",
        "    print(bartlett(Rank_u[Rank_u[Ranks_list_[i]]==2][raised_amount_usds[i]],Rank_u[Rank_u[Ranks_list_[i]]==4][raised_amount_usds[i]]))\n",
        "\n",
        "    print(\"t-test\")\n",
        "    #print(stats.ttest_ind(Rank_u[Rank_u[Ranks_list_[i]]==2][raised_amount_usds[i]],Rank_u[Rank_u[Ranks_list_[i]]==3][raised_amount_usds[i]],var_equal=False))\n",
        "    print(stats.ttest_ind(Rank_u[Rank_u[Ranks_list_[i]]==2][raised_amount_usds[i]],Rank_u[Rank_u[Ranks_list_[i]]==4][raised_amount_usds[i]],equal_var=False))\n",
        "  except:\n",
        "    pass    \n",
        "  try:\n",
        "    print(\"\\n\\n>>>>>>>>>>>>\",Ranks_list_[i],\"<<<<<<<<<<<<<<<<<\")\n",
        "    print(\"rank\",\"low\",\"vs rank\",\"high\")\n",
        "    print(\"등분산성 검정\")\n",
        "    print(bartlett(Rank_u[Rank_u[Ranks_list_[i]]<=2][raised_amount_usds[i]],Rank_u[Rank_u[Ranks_list_[i]]>=4][raised_amount_usds[i]]))\n",
        "\n",
        "    print(\"t-test\")\n",
        "    #print(stats.ttest_ind(Rank_u[Rank_u[Ranks_list_[i]]==2][raised_amount_usds[i]],Rank_u[Rank_u[Ranks_list_[i]]==3][raised_amount_usds[i]],var_equal=False))\n",
        "    print(stats.ttest_ind(Rank_u[Rank_u[Ranks_list_[i]]<=2][raised_amount_usds[i]],Rank_u[Rank_u[Ranks_list_[i]]>=4][raised_amount_usds[i]],equal_var=False))\n",
        "  except:\n",
        "    pass      \n"
      ],
      "metadata": {
        "colab": {
          "base_uri": "https://localhost:8080/"
        },
        "id": "EKeFDv37j9hD",
        "outputId": "2e8cd1aa-c19d-4ea3-e6c3-f00a747dd777"
      },
      "execution_count": 17,
      "outputs": [
        {
          "output_type": "stream",
          "name": "stdout",
          "text": [
            "\n",
            "\n",
            ">>>>>>>>>>>> Rank_Seed <<<<<<<<<<<<<<<<<\n",
            "rank 1 vs rank 2\n",
            "등분산성 검정\n",
            "BartlettResult(statistic=nan, pvalue=nan)\n",
            "t-test\n",
            "Ttest_indResult(statistic=nan, pvalue=nan)\n",
            "\n",
            "\n",
            ">>>>>>>>>>>> Rank_Seed <<<<<<<<<<<<<<<<<\n",
            "rank 2 vs rank 3\n",
            "등분산성 검정\n",
            "BartlettResult(statistic=nan, pvalue=nan)\n",
            "t-test\n",
            "Ttest_indResult(statistic=nan, pvalue=nan)\n",
            "\n",
            "\n",
            ">>>>>>>>>>>> Rank_Seed <<<<<<<<<<<<<<<<<\n",
            "rank 3 vs rank 4\n",
            "등분산성 검정\n",
            "BartlettResult(statistic=nan, pvalue=nan)\n",
            "t-test\n",
            "Ttest_indResult(statistic=nan, pvalue=nan)\n",
            "\n",
            "\n",
            ">>>>>>>>>>>> Rank_Seed <<<<<<<<<<<<<<<<<\n",
            "rank 1 vs rank 3\n",
            "등분산성 검정\n",
            "BartlettResult(statistic=nan, pvalue=nan)\n",
            "t-test\n",
            "Ttest_indResult(statistic=nan, pvalue=nan)\n",
            "\n",
            "\n",
            ">>>>>>>>>>>> Rank_Seed <<<<<<<<<<<<<<<<<\n",
            "rank 2 vs rank 4\n",
            "등분산성 검정\n",
            "BartlettResult(statistic=nan, pvalue=nan)\n",
            "t-test\n",
            "Ttest_indResult(statistic=nan, pvalue=nan)\n",
            "\n",
            "\n",
            ">>>>>>>>>>>> Rank_Seed <<<<<<<<<<<<<<<<<\n",
            "rank low vs rank high\n",
            "등분산성 검정\n",
            "BartlettResult(statistic=nan, pvalue=nan)\n",
            "t-test\n",
            "Ttest_indResult(statistic=nan, pvalue=nan)\n",
            "\n",
            "\n",
            ">>>>>>>>>>>> Rank_A <<<<<<<<<<<<<<<<<\n",
            "rank 1 vs rank 2\n",
            "등분산성 검정\n",
            "BartlettResult(statistic=nan, pvalue=nan)\n",
            "t-test\n",
            "Ttest_indResult(statistic=nan, pvalue=nan)\n",
            "\n",
            "\n",
            ">>>>>>>>>>>> Rank_A <<<<<<<<<<<<<<<<<\n",
            "rank 2 vs rank 3\n",
            "등분산성 검정\n",
            "BartlettResult(statistic=nan, pvalue=nan)\n",
            "t-test\n",
            "Ttest_indResult(statistic=nan, pvalue=nan)\n",
            "\n",
            "\n",
            ">>>>>>>>>>>> Rank_A <<<<<<<<<<<<<<<<<\n",
            "rank 3 vs rank 4\n",
            "등분산성 검정\n",
            "BartlettResult(statistic=nan, pvalue=nan)\n",
            "t-test\n",
            "Ttest_indResult(statistic=nan, pvalue=nan)\n",
            "\n",
            "\n",
            ">>>>>>>>>>>> Rank_A <<<<<<<<<<<<<<<<<\n",
            "rank 1 vs rank 3\n",
            "등분산성 검정\n",
            "BartlettResult(statistic=nan, pvalue=nan)\n",
            "t-test\n",
            "Ttest_indResult(statistic=nan, pvalue=nan)\n",
            "\n",
            "\n",
            ">>>>>>>>>>>> Rank_A <<<<<<<<<<<<<<<<<\n",
            "rank 2 vs rank 4\n",
            "등분산성 검정\n",
            "BartlettResult(statistic=nan, pvalue=nan)\n",
            "t-test\n",
            "Ttest_indResult(statistic=nan, pvalue=nan)\n",
            "\n",
            "\n",
            ">>>>>>>>>>>> Rank_A <<<<<<<<<<<<<<<<<\n",
            "rank low vs rank high\n",
            "등분산성 검정\n",
            "BartlettResult(statistic=nan, pvalue=nan)\n",
            "t-test\n",
            "Ttest_indResult(statistic=nan, pvalue=nan)\n"
          ]
        },
        {
          "output_type": "stream",
          "name": "stderr",
          "text": [
            "/usr/local/lib/python3.8/dist-packages/scipy/stats/morestats.py:2468: RuntimeWarning: divide by zero encountered in true_divide\n",
            "  denom = 1.0 + 1.0/(3*(k - 1)) * ((np.sum(1.0/(Ni - 1.0), axis=0)) -\n",
            "/usr/local/lib/python3.8/dist-packages/numpy/core/fromnumeric.py:3723: RuntimeWarning: Degrees of freedom <= 0 for slice\n",
            "  return _methods._var(a, axis=axis, dtype=dtype, out=out, ddof=ddof,\n",
            "/usr/local/lib/python3.8/dist-packages/numpy/core/_methods.py:254: RuntimeWarning: invalid value encountered in double_scalars\n",
            "  ret = ret.dtype.type(ret / rcount)\n"
          ]
        },
        {
          "output_type": "stream",
          "name": "stdout",
          "text": [
            "\n",
            "\n",
            ">>>>>>>>>>>> Rank_B <<<<<<<<<<<<<<<<<\n",
            "rank 1 vs rank 2\n",
            "등분산성 검정\n",
            "BartlettResult(statistic=nan, pvalue=nan)\n",
            "t-test\n",
            "Ttest_indResult(statistic=nan, pvalue=nan)\n",
            "\n",
            "\n",
            ">>>>>>>>>>>> Rank_B <<<<<<<<<<<<<<<<<\n",
            "rank 2 vs rank 3\n",
            "등분산성 검정\n",
            "BartlettResult(statistic=nan, pvalue=nan)\n",
            "t-test\n",
            "Ttest_indResult(statistic=nan, pvalue=nan)\n",
            "\n",
            "\n",
            ">>>>>>>>>>>> Rank_B <<<<<<<<<<<<<<<<<\n",
            "rank 3 vs rank 4\n",
            "등분산성 검정\n",
            "BartlettResult(statistic=8.53436412152962, pvalue=0.0034850306276579834)\n",
            "t-test\n",
            "Ttest_indResult(statistic=4.1862167564452335, pvalue=0.0020543762770656388)\n",
            "\n",
            "\n",
            ">>>>>>>>>>>> Rank_B <<<<<<<<<<<<<<<<<\n",
            "rank 1 vs rank 3\n",
            "등분산성 검정\n",
            "BartlettResult(statistic=inf, pvalue=0.0)\n",
            "t-test\n",
            "Ttest_indResult(statistic=2.870810080356119, pvalue=0.018452316578145403)\n",
            "\n",
            "\n",
            ">>>>>>>>>>>> Rank_B <<<<<<<<<<<<<<<<<\n",
            "rank 2 vs rank 4\n",
            "등분산성 검정\n",
            "BartlettResult(statistic=nan, pvalue=nan)\n",
            "t-test\n",
            "Ttest_indResult(statistic=nan, pvalue=nan)\n",
            "\n",
            "\n",
            ">>>>>>>>>>>> Rank_B <<<<<<<<<<<<<<<<<\n",
            "rank low vs rank high\n",
            "등분산성 검정\n",
            "BartlettResult(statistic=4.77758399931447, pvalue=0.028832545376887266)\n",
            "t-test\n",
            "Ttest_indResult(statistic=8.265195479029225, pvalue=0.0007170124746150904)\n",
            "\n",
            "\n",
            ">>>>>>>>>>>> Rank_C <<<<<<<<<<<<<<<<<\n",
            "rank 1 vs rank 2\n",
            "등분산성 검정\n",
            "BartlettResult(statistic=nan, pvalue=nan)\n",
            "t-test\n",
            "Ttest_indResult(statistic=nan, pvalue=nan)\n",
            "\n",
            "\n",
            ">>>>>>>>>>>> Rank_C <<<<<<<<<<<<<<<<<\n",
            "rank 2 vs rank 3\n",
            "등분산성 검정\n",
            "BartlettResult(statistic=1.2756567527075775, pvalue=0.2587081532288118)\n",
            "t-test\n",
            "Ttest_indResult(statistic=0.47928097575608025, pvalue=0.6456526466010999)\n",
            "\n",
            "\n",
            ">>>>>>>>>>>> Rank_C <<<<<<<<<<<<<<<<<\n",
            "rank 3 vs rank 4\n",
            "등분산성 검정\n",
            "BartlettResult(statistic=1.1656155293980632, pvalue=0.28030396607495434)\n",
            "t-test\n",
            "Ttest_indResult(statistic=0.8165108790064516, pvalue=0.4165649492416148)\n",
            "\n",
            "\n",
            ">>>>>>>>>>>> Rank_C <<<<<<<<<<<<<<<<<\n",
            "rank 1 vs rank 3\n",
            "등분산성 검정\n",
            "BartlettResult(statistic=nan, pvalue=nan)\n",
            "t-test\n",
            "Ttest_indResult(statistic=nan, pvalue=nan)\n",
            "\n",
            "\n",
            ">>>>>>>>>>>> Rank_C <<<<<<<<<<<<<<<<<\n",
            "rank 2 vs rank 4\n",
            "등분산성 검정\n",
            "BartlettResult(statistic=2.143310202318026, pvalue=0.14319262304393365)\n",
            "t-test\n",
            "Ttest_indResult(statistic=1.077712248630044, pvalue=0.31368816749901074)\n",
            "\n",
            "\n",
            ">>>>>>>>>>>> Rank_C <<<<<<<<<<<<<<<<<\n",
            "rank low vs rank high\n",
            "등분산성 검정\n",
            "BartlettResult(statistic=0.9808214766075799, pvalue=0.3219960809478637)\n",
            "t-test\n",
            "Ttest_indResult(statistic=1.5874382324293264, pvalue=0.1513467991477807)\n"
          ]
        },
        {
          "output_type": "stream",
          "name": "stderr",
          "text": [
            "/usr/local/lib/python3.8/dist-packages/scipy/stats/morestats.py:2467: RuntimeWarning: divide by zero encountered in log\n",
            "  numer = (Ntot*1.0 - k) * log(spsq) - np.sum((Ni - 1.0)*log(ssq), axis=0)\n"
          ]
        }
      ]
    },
    {
      "cell_type": "markdown",
      "source": [
        "Series A,B,C 각 Series에서 저평가(또는 고평가)된 정도에 따른 단일 투자의 평균 금액 비교"
      ],
      "metadata": {
        "id": "L065ERjoqN7N"
      }
    },
    {
      "cell_type": "code",
      "source": [
        "Ranks_list_=[\"Rank_Seed\",\"Rank_A\",\"Rank_B\",\"Rank_C\"]\n",
        "raised_amount_usds=['raised_amount_usd_Seed','raised_amount_usd_A','raised_amount_usd_B','raised_amount_usd_C']\n",
        "df_seed=[]\n",
        "\n",
        "for i in range(len(Ranks_list_)-1):\n",
        "\n",
        "  print(\">>>>>>>>>>>>\",Ranks_list_[i],\"<<<<<<<<<<<<<<<<<\")\n",
        "  Rank_u=Zs_Acq_.copy()\n",
        "  Rank_u=Rank_u.drop(Rank_u[Rank_u[Ranks_list_[i]].isnull()].index)\n",
        "  Rank_u=Rank_u.drop(Rank_u[Rank_u[raised_amount_usds[i]].isnull()].index)\n",
        "  print(\"총 데이터 수: \",len(Rank_u))\n",
        "  for rank_ in range(1,5):\n",
        "    print(rank_,\"에 속하는 데이터 수: \",len(Rank_u[Rank_u[Ranks_list_[i]]==rank_]))\n",
        "    print(rank_,\"의 seed 평균: \",Rank_u[Rank_u[Ranks_list_[i]]==rank_][raised_amount_usds[i+1]].mean())\n",
        "    \n",
        "\n",
        "  sns.barplot(data =Rank_u, x =Ranks_list_[i], y = raised_amount_usds[i], estimator = np.mean)\n",
        "  sns.set_palette(\"Set2\")\n",
        "  plt.show()"
      ],
      "metadata": {
        "colab": {
          "base_uri": "https://localhost:8080/",
          "height": 1000
        },
        "id": "M-i-LxqAqgAD",
        "outputId": "505cb8c1-345f-4dea-eab3-9fd59425df84"
      },
      "execution_count": 18,
      "outputs": [
        {
          "output_type": "stream",
          "name": "stdout",
          "text": [
            ">>>>>>>>>>>> Rank_Seed <<<<<<<<<<<<<<<<<\n",
            "총 데이터 수:  3\n",
            "1 에 속하는 데이터 수:  0\n",
            "1 의 seed 평균:  nan\n",
            "2 에 속하는 데이터 수:  2\n",
            "2 의 seed 평균:  1500000.0\n",
            "3 에 속하는 데이터 수:  1\n",
            "3 의 seed 평균:  nan\n",
            "4 에 속하는 데이터 수:  0\n",
            "4 의 seed 평균:  nan\n"
          ]
        },
        {
          "output_type": "display_data",
          "data": {
            "text/plain": [
              "<Figure size 432x288 with 1 Axes>"
            ],
            "image/png": "[encoded data removed]"
          },
          "metadata": {
            "needs_background": "light"
          }
        },
        {
          "output_type": "stream",
          "name": "stdout",
          "text": [
            ">>>>>>>>>>>> Rank_A <<<<<<<<<<<<<<<<<\n",
            "총 데이터 수:  3\n",
            "1 에 속하는 데이터 수:  0\n",
            "1 의 seed 평균:  nan\n",
            "2 에 속하는 데이터 수:  3\n",
            "2 의 seed 평균:  9416666.666666666\n",
            "3 에 속하는 데이터 수:  0\n",
            "3 의 seed 평균:  nan\n",
            "4 에 속하는 데이터 수:  0\n",
            "4 의 seed 평균:  nan\n"
          ]
        },
        {
          "output_type": "display_data",
          "data": {
            "text/plain": [
              "<Figure size 432x288 with 1 Axes>"
            ],
            "image/png": "[encoded data removed]"
          },
          "metadata": {
            "needs_background": "light"
          }
        },
        {
          "output_type": "stream",
          "name": "stdout",
          "text": [
            ">>>>>>>>>>>> Rank_B <<<<<<<<<<<<<<<<<\n",
            "총 데이터 수:  19\n",
            "1 에 속하는 데이터 수:  4\n",
            "1 의 seed 평균:  180000000.0\n",
            "2 에 속하는 데이터 수:  1\n",
            "2 의 seed 평균:  400000000.0\n",
            "3 에 속하는 데이터 수:  10\n",
            "3 의 seed 평균:  155144000.0\n",
            "4 에 속하는 데이터 수:  4\n",
            "4 의 seed 평균:  8035470.75\n"
          ]
        },
        {
          "output_type": "display_data",
          "data": {
            "text/plain": [
              "<Figure size 432x288 with 1 Axes>"
            ],
            "image/png": "[encoded data removed]"
          },
          "metadata": {
            "needs_background": "light"
          }
        }
      ]
    }
  ]
}