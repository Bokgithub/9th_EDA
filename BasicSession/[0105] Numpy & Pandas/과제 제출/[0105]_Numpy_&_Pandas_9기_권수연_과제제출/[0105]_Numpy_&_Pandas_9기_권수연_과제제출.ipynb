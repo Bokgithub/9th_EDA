{
 "cells": [
  {
   "cell_type": "code",
   "execution_count": 2,
   "metadata": {
    "id": "LaGMx6JJMP0g"
   },
   "outputs": [],
   "source": [
    "import numpy as np\n",
    "import pandas as pd"
   ]
  },
  {
   "cell_type": "markdown",
   "metadata": {
    "id": "K0pudmzPPM94"
   },
   "source": [
    "EDA 데이터셋을 본격적으로 Numpy, Pandas로 분석하기 전에 과제를 통해 손을 푼다고 생각하고 연습해보시면 좋을 것 같습니다!"
   ]
  },
  {
   "cell_type": "markdown",
   "metadata": {
    "id": "D52ytd6HL4wb"
   },
   "source": [
    "# 1. Numpy"
   ]
  },
  {
   "cell_type": "code",
   "execution_count": 3,
   "metadata": {
    "colab": {
     "base_uri": "https://localhost:8080/"
    },
    "id": "_VpBbw8AL8t9",
    "outputId": "e5428747-f7a8-43b5-ef6c-bd9a5a25558b"
   },
   "outputs": [
    {
     "name": "stdout",
     "output_type": "stream",
     "text": [
      "[10 11 12 13 14 15 16 17 18 19 20 21 22 23 24 25 26 27 28 29 30]\n"
     ]
    }
   ],
   "source": [
    "# Q1.10~30까지의 정수를 담은 array를 만들어보세요. 이를 a1이라는 변수로 저장하세요\n",
    "a1 = np.arange(10,31)\n",
    "print(a1)"
   ]
  },
  {
   "cell_type": "code",
   "execution_count": 4,
   "metadata": {
    "colab": {
     "base_uri": "https://localhost:8080/"
    },
    "id": "HGhzlW6aMikv",
    "outputId": "1ea10e4c-82dd-4759-a641-262ff4c8bfb1"
   },
   "outputs": [
    {
     "data": {
      "text/plain": [
       "array([[10, 11, 12],\n",
       "       [13, 14, 15],\n",
       "       [16, 17, 18],\n",
       "       [19, 20, 21],\n",
       "       [22, 23, 24],\n",
       "       [25, 26, 27],\n",
       "       [28, 29, 30]])"
      ]
     },
     "execution_count": 4,
     "metadata": {},
     "output_type": "execute_result"
    }
   ],
   "source": [
    "# Q2. 위에서 만든 array는 shape이 21*1입니다. a1의 shape을 7*3로 바꿔보세요\n",
    "a1.reshape(7,3)"
   ]
  },
  {
   "cell_type": "code",
   "execution_count": 5,
   "metadata": {
    "colab": {
     "base_uri": "https://localhost:8080/"
    },
    "id": "jt6cJBloNsdw",
    "outputId": "b8a94c83-caf3-4b45-86bb-c5cca3d11659"
   },
   "outputs": [
    {
     "name": "stdout",
     "output_type": "stream",
     "text": [
      "Mean:  20.0\n",
      "Max:  30\n"
     ]
    }
   ],
   "source": [
    "# Q3. a1의 array에 있는 값들의 평균과 최댓값을 구해보세요. 세션에서 명확하게 다루지는 않았지만 쉽게 생각해내실 수 있습니다. 모르시면 구글을 활용하세요\n",
    "print('Mean: ',a1.mean())\n",
    "print('Max: ',a1.max())"
   ]
  },
  {
   "cell_type": "code",
   "execution_count": 6,
   "metadata": {
    "colab": {
     "base_uri": "https://localhost:8080/"
    },
    "id": "2o5biZ_KOTo2",
    "outputId": "0abb7a21-152d-4f1a-e428-a8c66b036841"
   },
   "outputs": [
    {
     "data": {
      "text/plain": [
       "array([[ 1,  2,  3,  4],\n",
       "       [ 5,  6,  7,  8],\n",
       "       [ 9, 10, 11, 12],\n",
       "       [13, 14, 15, 16]])"
      ]
     },
     "execution_count": 6,
     "metadata": {},
     "output_type": "execute_result"
    }
   ],
   "source": [
    "# Q4. 이제는 다차원 배열을 만들어보겠습니다 \n",
    "# 4*4의 shape을 가지는 다차원 배열을 생성해보세요. 안의 값들은 1부터 채워넣으시면 됩니다. 이를 arr1이라는 변수에 저장하세요\n",
    "arr1=np.array([[1,2,3,4],[5,6,7,8],[9,10,11,12],[13,14,15,16]])\n",
    "arr1"
   ]
  },
  {
   "cell_type": "code",
   "execution_count": 7,
   "metadata": {
    "colab": {
     "base_uri": "https://localhost:8080/"
    },
    "id": "z6930akMO46o",
    "outputId": "7bb0dd19-963e-4845-b613-fb97d3f5f54c"
   },
   "outputs": [
    {
     "data": {
      "text/plain": [
       "array([ 2,  6, 10, 14])"
      ]
     },
     "execution_count": 7,
     "metadata": {},
     "output_type": "execute_result"
    }
   ],
   "source": [
    "# Q5. arr1에서 2,6,10,14만 추출하는 코드를 작성해보세요\n",
    "arr1[:,1]"
   ]
  },
  {
   "cell_type": "code",
   "execution_count": 8,
   "metadata": {
    "colab": {
     "base_uri": "https://localhost:8080/"
    },
    "id": "4rK_OckmPKKS",
    "outputId": "0f653aa9-6c67-46da-9198-dfe849a318c1"
   },
   "outputs": [
    {
     "data": {
      "text/plain": [
       "array([[ 7,  8],\n",
       "       [11, 12]])"
      ]
     },
     "execution_count": 8,
     "metadata": {},
     "output_type": "execute_result"
    }
   ],
   "source": [
    "#Q6. arr1에서 7, 8, 11, 12를 추출하는 코드를 작성해보세요\n",
    "arr1[1:3,2:4]"
   ]
  },
  {
   "cell_type": "code",
   "execution_count": 9,
   "metadata": {
    "colab": {
     "base_uri": "https://localhost:8080/"
    },
    "id": "vVR9uAcCQEcy",
    "outputId": "9d0c43c4-548d-4806-f3ff-3f121d3aed0e"
   },
   "outputs": [
    {
     "data": {
      "text/plain": [
       "array([ 7, 15])"
      ]
     },
     "execution_count": 9,
     "metadata": {},
     "output_type": "execute_result"
    }
   ],
   "source": [
    "#Q7. arr1에서 7,15를 추출하는 코드를 작성해보세요\n",
    "arr1[[1,3],2]"
   ]
  },
  {
   "cell_type": "code",
   "execution_count": 10,
   "metadata": {
    "colab": {
     "base_uri": "https://localhost:8080/"
    },
    "id": "8cqyYW7fQEgK",
    "outputId": "e905782f-aec4-4acb-ea22-bfef6c0d244b"
   },
   "outputs": [
    {
     "data": {
      "text/plain": [
       "array([[ 1,  2,  3,  4],\n",
       "       [ 5,  6,  7,  8],\n",
       "       [ 9, 10, 11, 12],\n",
       "       [13, 14, 15, 16],\n",
       "       [17, 18, 19, 20],\n",
       "       [21, 22, 23, 24]])"
      ]
     },
     "execution_count": 10,
     "metadata": {},
     "output_type": "execute_result"
    }
   ],
   "source": [
    "#Q8. 아래에 있는 arr2를 arr1 아래에다가 붙여서 arr3을 만들어보세요\n",
    "arr2 = np.array([[17,18,19,20],[21,22,23,24]])\n",
    "arr3 = np.append(arr1,arr2,axis=0)\n",
    "arr3"
   ]
  },
  {
   "cell_type": "code",
   "execution_count": 11,
   "metadata": {
    "colab": {
     "base_uri": "https://localhost:8080/"
    },
    "id": "I2R96itjSSJ7",
    "outputId": "259c6057-7072-48bb-af8e-ec6167bfecfb"
   },
   "outputs": [
    {
     "data": {
      "text/plain": [
       "array([15, 16, 17, 18, 19, 20, 21, 22, 23, 24])"
      ]
     },
     "execution_count": 11,
     "metadata": {},
     "output_type": "execute_result"
    }
   ],
   "source": [
    "# Q9. arr3에서 15이상인 값들만 추출하는 코드를 작성해보세요\n",
    "arr3[arr3>=15]"
   ]
  },
  {
   "cell_type": "code",
   "execution_count": 12,
   "metadata": {
    "colab": {
     "base_uri": "https://localhost:8080/"
    },
    "id": "maEsAQaDSSRH",
    "outputId": "8d75ab0f-0f9b-498e-92b2-c191bbcbe758"
   },
   "outputs": [
    {
     "name": "stdout",
     "output_type": "stream",
     "text": [
      "[[0.32145895 0.46529408 0.43530562 0.95803122 0.13937181 0.51910134\n",
      "  0.32920618 0.34742121 0.76567184 0.60676512]]\n",
      "[[0.32145895 0.46529408 0.43530562 0.         0.13937181 0.51910134\n",
      "  0.32920618 0.34742121 0.76567184 0.60676512]]\n"
     ]
    }
   ],
   "source": [
    "# Q10. 1*10의 array를 값이 랜덤이 되게 만들고 그 중에서 최댓값을 0으로 바꿔보세요\n",
    "# 세션에서 명확하게 다루지 않은 내용입니다. 슬랙에 질문하거나 구글을 활용하시면 좋을 것 같습니다\n",
    "arr4 = np.random.random((1,10))\n",
    "print(arr4)\n",
    "arr5 = np.where(arr4==arr4.max(), 0, arr4)\n",
    "print(arr5)"
   ]
  },
  {
   "cell_type": "markdown",
   "metadata": {
    "id": "jkMrJVTJVeBP"
   },
   "source": [
    "# Pandas"
   ]
  },
  {
   "cell_type": "code",
   "execution_count": 13,
   "metadata": {
    "id": "AhSfx9enVgVz"
   },
   "outputs": [
    {
     "ename": "ModuleNotFoundError",
     "evalue": "No module named 'google.colab'",
     "output_type": "error",
     "traceback": [
      "\u001b[1;31m---------------------------------------------------------------------------\u001b[0m",
      "\u001b[1;31mModuleNotFoundError\u001b[0m                       Traceback (most recent call last)",
      "Input \u001b[1;32mIn [13]\u001b[0m, in \u001b[0;36m<cell line: 3>\u001b[1;34m()\u001b[0m\n\u001b[0;32m      1\u001b[0m \u001b[38;5;66;03m# 준비\u001b[39;00m\n\u001b[0;32m      2\u001b[0m \u001b[38;5;66;03m# 먼저 타이타닉 데이터셋을 구글 드라이브 마운트 혹은 파일을 경로를 알기 쉬운 곳에 가져와주세요\u001b[39;00m\n\u001b[1;32m----> 3\u001b[0m \u001b[38;5;28;01mfrom\u001b[39;00m \u001b[38;5;21;01mgoogle\u001b[39;00m\u001b[38;5;21;01m.\u001b[39;00m\u001b[38;5;21;01mcolab\u001b[39;00m \u001b[38;5;28;01mimport\u001b[39;00m drive\n\u001b[0;32m      4\u001b[0m drive\u001b[38;5;241m.\u001b[39mmount(\u001b[38;5;124m'\u001b[39m\u001b[38;5;124m/content/drive\u001b[39m\u001b[38;5;124m'\u001b[39m)\n",
      "\u001b[1;31mModuleNotFoundError\u001b[0m: No module named 'google.colab'"
     ]
    }
   ],
   "source": [
    "# 준비\n",
    "# 먼저 타이타닉 데이터셋을 구글 드라이브 마운트 혹은 파일을 경로를 알기 쉬운 곳에 가져와주세요\n",
    "from google.colab import drive\n",
    "drive.mount('/content/drive')\n",
    "#jupyter를 사용하여 풀었고, 노트북 파일과 타이타닉 파일을 한 폴더에 넣고 read했습니다."
   ]
  },
  {
   "cell_type": "code",
   "execution_count": null,
   "metadata": {
    "colab": {
     "base_uri": "https://localhost:8080/",
     "height": 143
    },
    "id": "QK7nQTAtXoYy",
    "outputId": "674fb6a7-483b-4f1f-a2fe-96418bbbadc8"
   },
   "outputs": [],
   "source": [
    "# Q11. Titanic 파일을 불러와 titanic_df라는 변수에 저장하고(저장할 때 첫 번째 열은 index로 지정) 위에서 2개의 행만 출력해보세요\n",
    "titanic_df = pd.read_csv(\"Titanic.csv\")\n",
    "titanic_df.head(2)"
   ]
  },
  {
   "cell_type": "code",
   "execution_count": null,
   "metadata": {
    "colab": {
     "base_uri": "https://localhost:8080/",
     "height": 455
    },
    "id": "dUQ5KmFltPj5",
    "outputId": "3a3e71b3-777f-419b-e574-59d6dd014799"
   },
   "outputs": [],
   "source": [
    "# Q12. 먼저 결측치를 처리해보겠습니다. 결측치가 하나라도 있는 행은 제거하는 코드를 작성해보세요\n",
    "# EDA 프로젝트 때는 결측치를 다른 값으로 채우거나 없애는 작업을 할 수 있지만 여기서는 없애고 진행하겠습니다\n",
    "titanic_df.dropna(axis=0,inplace=True)"
   ]
  },
  {
   "cell_type": "code",
   "execution_count": null,
   "metadata": {
    "colab": {
     "base_uri": "https://localhost:8080/",
     "height": 112
    },
    "id": "YWwpSdkQsbSb",
    "outputId": "f558b598-a0ec-46c1-87a2-9592beaab2ad"
   },
   "outputs": [],
   "source": [
    "# Q13. titanic_df에서 가장 어린 승객의 이름과 나이를 구할 수 있는 코드를 작성해보세요\n",
    "# 답은 여러 개가 있을 수 있습니다. \n",
    "y = titanic_df['Age'].idxmin()\n",
    "titanic_df.loc[y,['Name','Age']]"
   ]
  },
  {
   "cell_type": "code",
   "execution_count": null,
   "metadata": {
    "colab": {
     "base_uri": "https://localhost:8080/"
    },
    "id": "RxE3CgrWAR80",
    "outputId": "5ac9950b-4ae8-4f4c-e417-04b7dd725b43"
   },
   "outputs": [],
   "source": [
    "# Q14. Fare 값이 가장 높은 값과 낮은 값의 차이를 구하는 코드를 작성해보세요\n",
    "# 답은 여러 개가 있을 수 있습니다. \n",
    "d = titanic_df['Fare'].max()-titanic_df['Fare'].min()\n",
    "print('가장 비싼 티켓과 가장 싼 티켓의 가격 차이: $',d )"
   ]
  },
  {
   "cell_type": "code",
   "execution_count": null,
   "metadata": {
    "colab": {
     "base_uri": "https://localhost:8080/"
    },
    "id": "FZOTeTXREZfa",
    "outputId": "fdd359bf-e915-46b6-f820-d82550b4f5bc"
   },
   "outputs": [],
   "source": [
    "# Q15. Fare 값 상위 5명의 평균 가격을 계산하는 코드를 작성해보세요\n",
    "fare_df = titanic_df['Fare']\n",
    "fare_df = fare_df.sort_values(ascending=False)\n",
    "fare_df.head(5).mean()"
   ]
  },
  {
   "cell_type": "code",
   "execution_count": null,
   "metadata": {
    "colab": {
     "base_uri": "https://localhost:8080/",
     "height": 708
    },
    "id": "-lAYNdDX_Z8b",
    "outputId": "d2dfcbe4-246f-4e8f-8ea0-ae1c82fb5976"
   },
   "outputs": [],
   "source": [
    "# Q16. 타이타닉 승객 중 여성이면서 나이가 40세 이상인 고객들의 정보를 추출하는 코드를 작성해보세요\n",
    "# 힌트 : 2개의 조건을 동시에 만족할 수 있게 인덱싱하려면 &를 활용하시는 것도 하나의 방법입니다\n",
    "titanic_df[(titanic_df['Age'] >=40) & (titanic_df['Sex'] == 'female')]"
   ]
  },
  {
   "cell_type": "code",
   "execution_count": null,
   "metadata": {
    "colab": {
     "base_uri": "https://localhost:8080/",
     "height": 206
    },
    "id": "6zkkHP9LBXDU",
    "outputId": "d652a6b5-a143-45f8-ad6d-22cb2b20ac66"
   },
   "outputs": [],
   "source": [
    "# Q17.타이타닉 승객들을 Embarked와 성별을 기준으로 그룹화하고, 각 그룹 별로 평균 나이를 출력해보세요\n",
    "group_df = titanic_df.groupby(['Embarked','Sex'])\n",
    "pd.DataFrame(group_df['Age'].mean())"
   ]
  },
  {
   "cell_type": "code",
   "execution_count": null,
   "metadata": {
    "colab": {
     "base_uri": "https://localhost:8080/",
     "height": 206
    },
    "id": "X19OQf0BB8nV",
    "outputId": "da891e70-2779-43d3-c45c-0b7d45dea807"
   },
   "outputs": [],
   "source": [
    "# Q18. 이제는 3개의 데이터프레임을 병합해보겠습니다\n",
    "# 먼저 아래 3개의 데이터프레임을 생성하는 코드를 만들어보세요\n",
    "# 주문 정보 ord_df\n",
    "data1 = [[100,11,9001],[100,12,9002],[200,13,9001],[200,14,9003],[300,15,9003]]\n",
    "ord_df = pd.DataFrame(data1,columns=['CUST_ID','ORD_NO','PRDT_CD'])\n",
    "ord_df"
   ]
  },
  {
   "cell_type": "code",
   "execution_count": null,
   "metadata": {
    "colab": {
     "base_uri": "https://localhost:8080/",
     "height": 175
    },
    "id": "4Qe0n8bZFXqO",
    "outputId": "fdccd38e-0b46-4c9a-8c52-7d9fedc9a28b"
   },
   "outputs": [],
   "source": [
    "# 고객 정보 cust_df\n",
    "data2 = [[100,'kim'],[200,'park'],[300,'ahn'],[400,'choi']]\n",
    "cust_df = pd.DataFrame(data2,columns=['CUST_ID','NAME'])\n",
    "cust_df"
   ]
  },
  {
   "cell_type": "code",
   "execution_count": null,
   "metadata": {
    "colab": {
     "base_uri": "https://localhost:8080/",
     "height": 143
    },
    "id": "khFC-sA6FhHK",
    "outputId": "6208d838-69b5-47a8-fefc-9d5a7b883516"
   },
   "outputs": [],
   "source": [
    "# 상품정보 prdt_df\n",
    "data3 = [[9001,'Notebook',1000000],[9002,'TABLET',1500000],[9003,'TV',2000000]]\n",
    "prdt_df = pd.DataFrame(data3,columns=['PRDT_CD','NM','PRICE'])\n",
    "prdt_df"
   ]
  },
  {
   "cell_type": "code",
   "execution_count": null,
   "metadata": {
    "colab": {
     "base_uri": "https://localhost:8080/",
     "height": 206
    },
    "id": "eqEgn0FKFvEG",
    "outputId": "2d3cd1b3-73b1-4c04-87ad-9cb7fb3b4356"
   },
   "outputs": [],
   "source": [
    "# Q19. ord_df와 cust_df를 병합하여 아래와 같은 결과가 나오게 코드를 작성해보세요. ord_cust_df라는 변수로 저장하세요\n",
    "ord_cust_df = pd.merge(ord_df,cust_df,how='left',on='CUST_ID')\n",
    "ord_cust_df"
   ]
  },
  {
   "cell_type": "code",
   "execution_count": null,
   "metadata": {
    "colab": {
     "base_uri": "https://localhost:8080/",
     "height": 206
    },
    "id": "uh6zaay-GKkB",
    "outputId": "a329ff33-ce28-4c59-8bac-52d983c2f5fd"
   },
   "outputs": [],
   "source": [
    "# Q20. 18번에서 만든 데이터프레임과 prdt_df를 병합하여 아래와 같은 결과가 나오게 코드를 작성해보세요. merge_df라는 변수로 저장하세요\n",
    "merge_df = pd.merge(ord_cust_df,prdt_df,how='outer',on='PRDT_CD')\n",
    "merge_df"
   ]
  },
  {
   "cell_type": "code",
   "execution_count": null,
   "metadata": {
    "colab": {
     "base_uri": "https://localhost:8080/",
     "height": 175
    },
    "id": "1W4DSI0sI091",
    "outputId": "34eab5f7-be2b-46f3-f4bd-ab61e7047acf"
   },
   "outputs": [],
   "source": [
    "#Q21. 19번에서 만든 데이터셋으로 각 고객이 총 얼마를 지불하였는지 보여주는 코드를 작성해보세요\n",
    "ahn_price = merge_df[merge_df['NAME']=='ahn']['PRICE'].sum()\n",
    "kim_price = merge_df[merge_df['NAME']=='kim']['PRICE'].sum()\n",
    "park_price = merge_df[merge_df['NAME']=='park']['PRICE'].sum()\n",
    "\n",
    "data4 = [['ahn',ahn_price],['kim',kim_price],['park',park_price]]\n",
    "last_df = pd.DataFrame(data4,columns=['NAME','PRICE'])\n",
    "last_df"
   ]
  },
  {
   "cell_type": "markdown",
   "metadata": {
    "id": "h1rtsMU3JJ0u"
   },
   "source": [
    "수고하셨습니다!"
   ]
  }
 ],
 "metadata": {
  "colab": {
   "provenance": []
  },
  "kernelspec": {
   "display_name": "Python 3 (ipykernel)",
   "language": "python",
   "name": "python3"
  },
  "language_info": {
   "codemirror_mode": {
    "name": "ipython",
    "version": 3
   },
   "file_extension": ".py",
   "mimetype": "text/x-python",
   "name": "python",
   "nbconvert_exporter": "python",
   "pygments_lexer": "ipython3",
   "version": "3.9.12"
  }
 },
 "nbformat": 4,
 "nbformat_minor": 1
}
